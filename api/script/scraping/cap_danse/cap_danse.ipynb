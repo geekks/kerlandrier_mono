{
 "cells": [
  {
   "cell_type": "code",
   "execution_count": null,
   "id": "be4a944b-de60-4a44-831f-1f3c51ee617a",
   "metadata": {},
   "outputs": [],
   "source": [
    "# Scraping from CAP Danse festival\n",
    "# Last SCRAPING RUN : Sept 2025 (check last modifications dates on git)"
   ]
  },
  {
   "cell_type": "code",
   "execution_count": null,
   "id": "8d429ef8",
   "metadata": {},
   "outputs": [],
   "source": [
    "# Note : you need to have scraped events from the website first.\n",
    "# You can use \"Table Capture\" extension for Browser to export the table to CSV."
   ]
  },
  {
   "cell_type": "code",
   "execution_count": null,
   "id": "1b7616c5-2300-4d41-801d-18d2f7839603",
   "metadata": {},
   "outputs": [],
   "source": [
    "# Import libs\n",
    "import sys\n",
    "import os\n",
    "import git\n",
    "\n",
    "# Ajoute le dossier \"ressources\" au sys.path\n",
    "git_root = git.Repo(search_parent_directories=True).working_tree_dir\n",
    "sys.path.insert(0,   os.path.abspath(  os.path.join(  git_root,'api' ) ) )\n",
    "\n",
    "import script.libs.utils as utils\n",
    "import script.libs.scraping_utils as scraping_utils\n",
    "import script.libs.HttpRequests as HttpRequests\n",
    "from script.configuration import config, oa\n",
    "from script.libs.getOaLocation import get_or_create_oa_location\n",
    "\n",
    "from slugify import slugify\n",
    "import json\n",
    "from pprint import pprint"
   ]
  },
  {
   "cell_type": "code",
   "execution_count": null,
   "id": "fcb9bf5c-d3b2-481f-ab38-118e19b97c97",
   "metadata": {},
   "outputs": [],
   "source": [
    "# Constant\n",
    "access_token = oa.getToken()"
   ]
  },
  {
   "cell_type": "code",
   "execution_count": null,
   "id": "2ca55cde",
   "metadata": {},
   "outputs": [],
   "source": [
    "# Read existing CSV\n",
    "file_name=\"./Cap_Danse_2025.csv\"\n",
    "all_events = utils.read_csv(file_name)"
   ]
  },
  {
   "cell_type": "code",
   "execution_count": null,
   "id": "e3d2ce45",
   "metadata": {},
   "outputs": [],
   "source": [
    "\n",
    "def create_CAPDanse_OA_event(event:dict)->dict:\n",
    "        \"\"\"Get data from existing CapDanse csv and scraping of each event. Returns Dict with OA keys\"\"\"\n",
    "        keyword = event.get('keywords')\n",
    "        event_url=event.get('links')\n",
    "        # Default locationId : 11634941\n",
    "        location_uid = get_or_create_oa_location(   event.get('location'),\n",
    "                                                        access_token,\n",
    "                                                        oa.public_key,\n",
    "                                                        f\"{config.OA_API_URL}/locations\")\n",
    "        long_description=event.get('mention')+ os.linesep + event.get('title') + \". \" + event.get('description')\n",
    "        description=event.get('title') + \". \" + event.get('description')\n",
    "        date_begin=scraping_utils.get_datetime_from_text(event.get('date')).replace(year=2025) # Keeps day & month but avoid assigning the wrong year. \n",
    "        duree=\"1h\" # default value\n",
    "        date_end=utils.get_end_date(date_begin, duree)\n",
    "\n",
    "        eventOA= {\n",
    "                        \"uid-externe\": \"scrap-\" + event.get('Id') + \"-\" + slugify(event.get('title')),\n",
    "                        \"title\": { \"fr\": event.get('title')  } ,\n",
    "                        \"description\": { \"fr\": description},\n",
    "                        \"locationUid\": int(location_uid),\n",
    "                        \"links\": event_url,\n",
    "                        \"longDescription\": long_description,   \n",
    "                        \"keywords\": {\n",
    "                                \"fr\": [\"CapDanse\", keyword ]\n",
    "                                },\n",
    "                        \"timings\": [\n",
    "                                {\n",
    "                                \"begin\": date_begin.isoformat(),\n",
    "                                \"end\": date_end.isoformat()\n",
    "                                },\n",
    "                                ],\n",
    "                        \"attendanceMode\": 3,\n",
    "                        \"onlineAccessLink\": event_url,\n",
    "                }\n",
    "        return eventOA\n"
   ]
  },
  {
   "cell_type": "code",
   "execution_count": null,
   "id": "2552f472",
   "metadata": {},
   "outputs": [],
   "source": [
    "# First create a Json file with all valid events\n",
    "OAEvents=[]\n",
    "for event in all_events:\n",
    "    oa_event = create_CAPDanse_OA_event(event)\n",
    "    if oa_event:\n",
    "        OAEvents.append(oa_event)\n",
    "    utils.save_dict_to_json_file(OAEvents, \"eventsCapDanse2ToPost.json\")"
   ]
  },
  {
   "cell_type": "code",
   "execution_count": null,
   "id": "6fb2eb87",
   "metadata": {},
   "outputs": [],
   "source": [
    "# Then post them and saved them (with attributed unique ID form OA) in a json file\n",
    "# to update them or restart from last success in case of failing\n",
    "saved_events_capv2={}\n",
    "with open('eventsCapDanse2ToPost.json') as json_file:\n",
    "    eventsv2 = json.load(json_file)\n",
    "for event in eventsv2:\n",
    "    try :\n",
    "        response = HttpRequests.create_event(access_token,event = event)\n",
    "        uid = response['event']['uid'] if response['event'] else event['uid-externe'] \n",
    "        saved_events_capv2[response['event']['uid'] ] = event\n",
    "        utils.save_dict_to_json_file(saved_events_capv2, \"eventsCapDanse2Created.json\")\n",
    "    except Exception as e:\n",
    "        print(f\"Error creating event {event.get('title')} : {e}\")\n",
    "        continue\n",
    "    "
   ]
  },
  {
   "cell_type": "code",
   "execution_count": null,
   "id": "5e45de33",
   "metadata": {},
   "outputs": [],
   "source": [
    "# CORRECTIONS SI NECESSAIRE.\n",
    "# DEFAULT = False\n",
    "# Update the events with online access link and attendance mode\n",
    "correction = False\n",
    "for event in [allMatchEvents[0]]:\n",
    "    if not correction:\n",
    "        print(\"Corrections not executed\")\n",
    "        break\n",
    "    # print(event.get(\"title\"))\n",
    "    try:\n",
    "        response= HttpRequests.search_events(oa.public_key, event.get(\"title\"))\n",
    "        if not response.get(\"events\"):\n",
    "            raise ValueError(f\"No events return for {event.get(\"title\")} found in OA {response}\")\n",
    "        event= response.get(\"events\")[0]\n",
    "        if not event.get(\"uid\"):\n",
    "            raise ValueError(f\"Event returned for {event.get(\"title\")} is empty {response.get(\"events\")}\")\n",
    "    except Exception as e:\n",
    "        print(f\"Error in event search: {e}\")\n",
    "        continue\n",
    "    # pprint.pprint(event)\n",
    "    eventUID= event.get(\"uid\")\n",
    "    eventTitle= event.get(\"title\")\n",
    "    print(eventUID, eventTitle)\n",
    "    \n",
    "    #EXEMPLE DE CORRECTION\n",
    "    # event[\"onlineAccessLink\"] = event.get(\"lien\")\n",
    "    # event[\"attendanceMode\"] = 3  # 1=offline, 2=online, 3=hybrid\n",
    "    # event[\"keywords\"] = { \"fr\" : event.get(\"keywords\")}\n",
    "    \n",
    "    HttpRequests.delete_event(\n",
    "        access_token,\n",
    "        eventUID\n",
    "    )\n",
    "    print(\"--------\")"
   ]
  }
 ],
 "metadata": {
  "kernelspec": {
   "display_name": ".venv",
   "language": "python",
   "name": "python3"
  },
  "language_info": {
   "codemirror_mode": {
    "name": "ipython",
    "version": 3
   },
   "file_extension": ".py",
   "mimetype": "text/x-python",
   "name": "python",
   "nbconvert_exporter": "python",
   "pygments_lexer": "ipython3",
   "version": "3.12.9"
  }
 },
 "nbformat": 4,
 "nbformat_minor": 5
}
