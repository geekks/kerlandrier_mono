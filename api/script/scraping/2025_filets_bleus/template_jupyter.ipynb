{
 "cells": [
  {
   "cell_type": "code",
   "execution_count": 1,
   "id": "be4a944b-de60-4a44-831f-1f3c51ee617a",
   "metadata": {},
   "outputs": [],
   "source": [
    "# Script to adapt on html pagges"
   ]
  },
  {
   "cell_type": "code",
   "execution_count": 2,
   "id": "b12f6b76-9929-48ca-8cf4-01992b6f175d",
   "metadata": {},
   "outputs": [
    {
     "name": "stdout",
     "output_type": "stream",
     "text": [
      "/var/www/kerlandrier_mono/api/script/scraping\n"
     ]
    }
   ],
   "source": [
    "cd ."
   ]
  },
  {
   "cell_type": "code",
   "execution_count": null,
   "id": "1b7616c5-2300-4d41-801d-18d2f7839603",
   "metadata": {},
   "outputs": [],
   "source": [
    "import sys\n",
    "import os\n",
    "import git\n",
    "import pandas as pd\n",
    "from dateparser import parse as dparse\n",
    "\n",
    "# Ajoute le dossier \"ressources\" au sys.path\n",
    "git_root = git.Repo(search_parent_directories=True).working_tree_dir\n",
    "sys.path.insert(0,   os.path.abspath(  os.path.join(  git_root,'api' ) ) )\n",
    "\n",
    "import script.libs.utils as utils\n",
    "import script.libs.scraping_utils as scraping_utils\n",
    "import script.libs.HttpRequests as HttpRequests\n",
    "from script.configuration import config, oa\n",
    "from script.libs.getOaLocation import get_or_create_oa_location\n",
    "\n",
    "from slugify import slugify\n",
    "import os\n",
    "import requests\n",
    "# import requests_cache\n",
    "from bs4 import BeautifulSoup\n",
    "import  dateparser, pytz\n",
    "from urllib.parse import urlparse"
   ]
  },
  {
   "cell_type": "code",
   "execution_count": 5,
   "id": "fcb9bf5c-d3b2-481f-ab38-118e19b97c97",
   "metadata": {},
   "outputs": [],
   "source": [
    "baseURL= \"https://www.festivaldesfiletsbleus.bzh/\"\n",
    "allEventsPage= f\"{baseURL}/programme_filets_bleus_2025.html\"\n",
    "# locale.setlocale(locale.LC_ALL, 'fr_FR.UTF-8')\n",
    "# DEFAULT_TIME_START = \"20:00:00\"\n",
    "# DEFAULT_TIME_END = \"22:00:00\"\n",
    "getTimeout= scraping_utils.getTimeout"
   ]
  },
  {
   "cell_type": "code",
   "execution_count": 6,
   "id": "f6abb0fd",
   "metadata": {},
   "outputs": [],
   "source": [
    "html_doc = requests.get(allEventsPage, timeout=getTimeout).content.decode('ISO-8859-1',errors='replace')\n",
    "parsed_html = BeautifulSoup(html_doc ,'html.parser')"
   ]
  },
  {
   "cell_type": "code",
   "execution_count": 7,
   "id": "00d14f39",
   "metadata": {},
   "outputs": [
    {
     "name": "stdout",
     "output_type": "stream",
     "text": [
      "Dates: ['MERCREDI 13 AOÃ\\x9bT 2025', 'JEUDI 14 AOÃ\\x9bT 2025', 'VENDREDI 15 AOÃ\\x9bT 2025', 'SAMEDI 16 AOÃ\\x9bT 2025', 'DIMANCHE 17 AOÃ\\x9bT 2025']\n"
     ]
    }
   ],
   "source": [
    "dateSelector= \"div > h6\"\n",
    "extractedDates= extractedConcerts = parsed_html.select(dateSelector)\n",
    "dates = [f\"{d.text} 2025\" for d in extractedDates if d.text.strip() != \"\"]\n",
    "print(\"Dates:\", dates)"
   ]
  },
  {
   "cell_type": "code",
   "execution_count": 11,
   "id": "9ee89e27",
   "metadata": {},
   "outputs": [
    {
     "name": "stdout",
     "output_type": "stream",
     "text": [
      "[['19h00-20h30 ', ' LASS ', ' MERCREDI 13 AOÃ\\x9bT 2025 ', ' https://www.festivaldesfiletsbleus.bzh/artistes_2025.html#Lass'], ['20h45-22h15 ', ' SHARON SHANNON ', ' MERCREDI 13 AOÃ\\x9bT 2025 ', ' https://www.festivaldesfiletsbleus.bzh/artistes_2025.html#Sharon'], ['22h30-00h00 ', ' SONERIEN DU ', ' MERCREDI 13 AOÃ\\x9bT 2025 ', ' https://www.festivaldesfiletsbleus.bzh/artistes_2025.html#Sonerien'], ['19h00-20h30 ', ' CERCLE CELTIQUE AR ROUEDOÃ\\x99 GLAS ', ' JEUDI 14 AOÃ\\x9bT 2025 ', ' https://www.festivaldesfiletsbleus.bzh/artistes_2025.html#Cercle'], ['20h45-22h15 ', ' SOLDAT LOUIS ', ' JEUDI 14 AOÃ\\x9bT 2025 ', ' https://www.festivaldesfiletsbleus.bzh/artistes_2025.html#Soldat'], ['22h30-00h00 ', \" O'TRIDAL \", ' JEUDI 14 AOÃ\\x9bT 2025 ', ' https://www.festivaldesfiletsbleus.bzh/artistes_2025.html#OTridal'], ['19h00-20h30 ', ' BATTERIE FANFARE ECHO DU MONT BLANC ', ' VENDREDI 15 AOÃ\\x9bT 2025 ', ' https://www.festivaldesfiletsbleus.bzh/artistes_2025.html#Fanfare'], ['20h45-22h15 ', ' BOULEVARD DES AIRS ', ' VENDREDI 15 AOÃ\\x9bT 2025 ', ' https://www.festivaldesfiletsbleus.bzh/artistes_2025.html#Boulevard'], ['22h30-00h00 ', ' AMPOUAILH ', ' VENDREDI 15 AOÃ\\x9bT 2025 ', ' https://www.festivaldesfiletsbleus.bzh/artistes_2025.html#Ampouailh']]\n",
      "[['22h30-00h00 ',\n",
      "  ' SONERIEN DU ',\n",
      "  ' MERCREDI 13 AOÃ\\x9bT 2025 ',\n",
      "  ' https://www.festivaldesfiletsbleus.bzh/artistes_2025.html#Sonerien'],\n",
      " ['19h00-20h30 ',\n",
      "  ' CERCLE CELTIQUE AR ROUEDOÃ\\x99 GLAS ',\n",
      "  ' JEUDI 14 AOÃ\\x9bT 2025 ',\n",
      "  ' https://www.festivaldesfiletsbleus.bzh/artistes_2025.html#Cercle'],\n",
      " ['20h45-22h15 ',\n",
      "  ' SOLDAT LOUIS ',\n",
      "  ' JEUDI 14 AOÃ\\x9bT 2025 ',\n",
      "  ' https://www.festivaldesfiletsbleus.bzh/artistes_2025.html#Soldat'],\n",
      " ['22h30-00h00 ',\n",
      "  \" O'TRIDAL \",\n",
      "  ' JEUDI 14 AOÃ\\x9bT 2025 ',\n",
      "  ' https://www.festivaldesfiletsbleus.bzh/artistes_2025.html#OTridal'],\n",
      " ['19h00-20h30 ',\n",
      "  ' BATTERIE FANFARE ECHO DU MONT BLANC ',\n",
      "  ' VENDREDI 15 AOÃ\\x9bT 2025 ',\n",
      "  ' https://www.festivaldesfiletsbleus.bzh/artistes_2025.html#Fanfare'],\n",
      " ['20h45-22h15 ',\n",
      "  ' BOULEVARD DES AIRS ',\n",
      "  ' VENDREDI 15 AOÃ\\x9bT 2025 ',\n",
      "  ' https://www.festivaldesfiletsbleus.bzh/artistes_2025.html#Boulevard'],\n",
      " ['22h30-00h00 ',\n",
      "  ' AMPOUAILH ',\n",
      "  ' VENDREDI 15 AOÃ\\x9bT 2025 ',\n",
      "  ' https://www.festivaldesfiletsbleus.bzh/artistes_2025.html#Ampouailh']]\n"
     ]
    }
   ],
   "source": [
    "# Selector pour le contenu de chaque Event\n",
    "import pprint\n",
    "\n",
    "allEventsSelector= \"span.PROGTXT p\" #encarts où cse trouve la liste des événements\n",
    "for e in parsed_html.find_all('br'):\n",
    "    e.extract()\n",
    "extractedConcerts = parsed_html.select(allEventsSelector)\n",
    "concerts=[]\n",
    "\n",
    "for d,part in enumerate(extractedConcerts):\n",
    "    splitted =part.get_text().strip().split('\\n')\n",
    "    i=0\n",
    "    for c in splitted:\n",
    "        if c.find(\":\") <0 and i > 0: #merging lines from the same event\n",
    "            concerts[-1] = f\"{(splitted[i-1]+ \" \" + splitted[i]).replace(\":\",\"__\")} __ {dates[d]} __ {baseURL}{part.select(\"a\")[i-1][\"href\"].strip()}\"\n",
    "            c=c.replace(\":\",\"__\")\n",
    "            continue\n",
    "        c=c.replace(\":\",\"__\")\n",
    "        concerts.append( f\"{c.strip()} __ {dates[d]} __ {baseURL}{part.select(\"a\")[i][\"href\"].strip()}\" )\n",
    "        i+=1\n",
    "\n",
    "# print(concerts)\n",
    "concerts = [c.split(\"__\") for c in concerts]\n",
    "# concerts = [e.strip() for c in concerts for e in c]\n",
    "print(concerts)\n",
    "pprint.pprint(concerts[2:])\n",
    "\n"
   ]
  },
  {
   "cell_type": "code",
   "execution_count": null,
   "id": "2ca55cde",
   "metadata": {},
   "outputs": [
    {
     "name": "stderr",
     "output_type": "stream",
     "text": [
      "INFO:script.libs.getOaLocation:- searching location for : 'Quai Carnot, Concarneau'\n",
      "INFO:script.libs.getOaLocation: (optimized name for better matching:  'Quai Carnot Concarneau')\n",
      "INFO:script.libs.getOaLocation:- 🎯 Location found in OA: ('Quai Carnot Quai Carnot, 29900 Concarneau, France', 100, 37681236)\n"
     ]
    }
   ],
   "source": [
    "access_token = oa.getToken()\n",
    "\n",
    "timezone_paris = pytz.timezone('Europe/Paris')\n",
    "\n",
    "locationUid= get_or_create_oa_location(\"Quai Carnot, Concarneau\",\n",
    "                                        access_token,\n",
    "                                        oa.public_key,\n",
    "                                        f\"{config.OA_API_URL}/locations\")\n"
   ]
  },
  {
   "cell_type": "code",
   "execution_count": 45,
   "id": "e67fc4b9",
   "metadata": {},
   "outputs": [
    {
     "name": "stdout",
     "output_type": "stream",
     "text": [
      "23h50 JEUDI 14 aout 2025\n",
      "2025-08-14T23:50:00+02:00\n"
     ]
    }
   ],
   "source": [
    "c=concerts[5]\n",
    "date=f\"{c[0].split(\"-\")[1].strip().replace(\"00h00\",\"23h50\")} {c[2].strip().replace(\"AOÃ\\x9bT\", \"aout\")}\"\n",
    "print(date)\n",
    "datetz=dateparser.parse(date).astimezone(timezone_paris).isoformat()\n",
    "print(datetz)\n"
   ]
  },
  {
   "cell_type": "code",
   "execution_count": null,
   "id": "a9b30607",
   "metadata": {},
   "outputs": [
    {
     "name": "stdout",
     "output_type": "stream",
     "text": [
      "[{'description': {'fr': 'Concert de Lass - Scène Armor'},\n",
      "  'keywords': ['filets bleus', 'concert'],\n",
      "  'lien': 'https://www.festivaldesfiletsbleus.bzh/artistes_2025.html#Lass',\n",
      "  'locationUid': 37681236,\n",
      "  'longDescription': 'Concert de Lass - Scène Armor',\n",
      "  'timings': [{'begin': '2025-08-13T19:00:00+02:00',\n",
      "               'end': '2025-08-13T20:30:00+02:00'}],\n",
      "  'title': {'fr': 'LASS'},\n",
      "  'uid-externe': 'manual_scrap-filets-bleus-lass'},\n",
      " {'description': {'fr': 'Concert de Sharon shannon - Scène Armor'},\n",
      "  'keywords': ['filets bleus', 'concert'],\n",
      "  'lien': 'https://www.festivaldesfiletsbleus.bzh/artistes_2025.html#Sharon',\n",
      "  'locationUid': 37681236,\n",
      "  'longDescription': 'Concert de Sharon shannon - Scène Armor',\n",
      "  'timings': [{'begin': '2025-08-13T20:45:00+02:00',\n",
      "               'end': '2025-08-13T22:15:00+02:00'}],\n",
      "  'title': {'fr': 'SHARON SHANNON'},\n",
      "  'uid-externe': 'manual_scrap-filets-bleus-sharon-shannon'},\n",
      " {'description': {'fr': 'Concert de Sonerien du - Scène Armor'},\n",
      "  'keywords': ['filets bleus', 'concert'],\n",
      "  'lien': 'https://www.festivaldesfiletsbleus.bzh/artistes_2025.html#Sonerien',\n",
      "  'locationUid': 37681236,\n",
      "  'longDescription': 'Concert de Sonerien du - Scène Armor',\n",
      "  'timings': [{'begin': '2025-08-13T22:30:00+02:00',\n",
      "               'end': '2025-08-13T23:50:00+02:00'}],\n",
      "  'title': {'fr': 'SONERIEN DU'},\n",
      "  'uid-externe': 'manual_scrap-filets-bleus-sonerien-du'},\n",
      " {'description': {'fr': 'Concert de Cercle celtique ar rouedoã\\x99 glas - '\n",
      "                        'Scène Armor'},\n",
      "  'keywords': ['filets bleus', 'concert'],\n",
      "  'lien': 'https://www.festivaldesfiletsbleus.bzh/artistes_2025.html#Cercle',\n",
      "  'locationUid': 37681236,\n",
      "  'longDescription': 'Concert de Cercle celtique ar rouedoã\\x99 glas - Scène '\n",
      "                     'Armor',\n",
      "  'timings': [{'begin': '2025-08-14T19:00:00+02:00',\n",
      "               'end': '2025-08-14T20:30:00+02:00'}],\n",
      "  'title': {'fr': 'CERCLE CELTIQUE AR ROUEDOÃ\\x99 GLAS'},\n",
      "  'uid-externe': 'manual_scrap-filets-bleus-cercle-celtique-ar-rouedoa-glas'},\n",
      " {'description': {'fr': 'Concert de Soldat louis - Scène Armor'},\n",
      "  'keywords': ['filets bleus', 'concert'],\n",
      "  'lien': 'https://www.festivaldesfiletsbleus.bzh/artistes_2025.html#Soldat',\n",
      "  'locationUid': 37681236,\n",
      "  'longDescription': 'Concert de Soldat louis - Scène Armor',\n",
      "  'timings': [{'begin': '2025-08-14T20:45:00+02:00',\n",
      "               'end': '2025-08-14T22:15:00+02:00'}],\n",
      "  'title': {'fr': 'SOLDAT LOUIS'},\n",
      "  'uid-externe': 'manual_scrap-filets-bleus-soldat-louis'},\n",
      " {'description': {'fr': \"Concert de O'tridal - Scène Armor\"},\n",
      "  'keywords': ['filets bleus', 'concert'],\n",
      "  'lien': 'https://www.festivaldesfiletsbleus.bzh/artistes_2025.html#OTridal',\n",
      "  'locationUid': 37681236,\n",
      "  'longDescription': \"Concert de O'tridal - Scène Armor\",\n",
      "  'timings': [{'begin': '2025-08-14T22:30:00+02:00',\n",
      "               'end': '2025-08-14T23:50:00+02:00'}],\n",
      "  'title': {'fr': \"O'TRIDAL\"},\n",
      "  'uid-externe': 'manual_scrap-filets-bleus-o-tridal'},\n",
      " {'description': {'fr': 'Concert de Batterie fanfare echo du mont blanc - '\n",
      "                        'Scène Armor'},\n",
      "  'keywords': ['filets bleus', 'concert'],\n",
      "  'lien': 'https://www.festivaldesfiletsbleus.bzh/artistes_2025.html#Fanfare',\n",
      "  'locationUid': 37681236,\n",
      "  'longDescription': 'Concert de Batterie fanfare echo du mont blanc - Scène '\n",
      "                     'Armor',\n",
      "  'timings': [{'begin': '2025-08-15T19:00:00+02:00',\n",
      "               'end': '2025-08-15T20:30:00+02:00'}],\n",
      "  'title': {'fr': 'BATTERIE FANFARE ECHO DU MONT BLANC'},\n",
      "  'uid-externe': 'manual_scrap-filets-bleus-batterie-fanfare-echo-du-mont-blanc'},\n",
      " {'description': {'fr': 'Concert de Boulevard des airs - Scène Armor'},\n",
      "  'keywords': ['filets bleus', 'concert'],\n",
      "  'lien': 'https://www.festivaldesfiletsbleus.bzh/artistes_2025.html#Boulevard',\n",
      "  'locationUid': 37681236,\n",
      "  'longDescription': 'Concert de Boulevard des airs - Scène Armor',\n",
      "  'timings': [{'begin': '2025-08-15T20:45:00+02:00',\n",
      "               'end': '2025-08-15T22:15:00+02:00'}],\n",
      "  'title': {'fr': 'BOULEVARD DES AIRS'},\n",
      "  'uid-externe': 'manual_scrap-filets-bleus-boulevard-des-airs'},\n",
      " {'description': {'fr': 'Concert de Ampouailh - Scène Armor'},\n",
      "  'keywords': ['filets bleus', 'concert'],\n",
      "  'lien': 'https://www.festivaldesfiletsbleus.bzh/artistes_2025.html#Ampouailh',\n",
      "  'locationUid': 37681236,\n",
      "  'longDescription': 'Concert de Ampouailh - Scène Armor',\n",
      "  'timings': [{'begin': '2025-08-15T22:30:00+02:00',\n",
      "               'end': '2025-08-15T23:50:00+02:00'}],\n",
      "  'title': {'fr': 'AMPOUAILH'},\n",
      "  'uid-externe': 'manual_scrap-filets-bleus-ampouailh'}]\n"
     ]
    }
   ],
   "source": [
    "concertsD= []\n",
    "for index,c in enumerate(concerts):\n",
    "    datedebut=dparse(f\"{c[0].split(\"-\")[0].strip().replace(\"00h00\",\"23h50\")} {c[2].strip().replace(\"AOÃ\\x9bT\", \"aout\")}\").astimezone(timezone_paris).isoformat()\n",
    "    datefin=dparse(f\"{c[0].split(\"-\")[1].strip().replace(\"00h00\",\"23h50\")} {c[2].strip().replace(\"AOÃ\\x9bT\", \"aout\")}\").astimezone(timezone_paris).isoformat()\n",
    "    concertsD.append({\n",
    "        \"uid-externe\": \"manual_scrap-filets-bleus-\" + slugify(f\"{c[1].strip()}\"),\n",
    "        \"title\": { \"fr\": f\"{c[1].strip().capitalize()}\"},\n",
    "        \"description\": { \"fr\": f\"Concert de {c[1].strip().capitalize()} - Scène Armor\"},\n",
    "        \"longDescription\": f\"Concert de {c[1].strip().capitalize()} - Scène Armor\",\n",
    "        \"timings\": [\n",
    "            {\n",
    "                \"begin\": datedebut,\n",
    "                \"end\": datefin\n",
    "            }\n",
    "        ],\n",
    "        \"lien\": c[3].strip(),\n",
    "        \"locationUid\": locationUid,\n",
    "        \"keywords\": ['filets bleus', 'concert']\n",
    "    }\n",
    "    )\n",
    "\n",
    "pprint.pprint(concertsD)"
   ]
  },
  {
   "cell_type": "code",
   "execution_count": 47,
   "id": "6fb2eb87",
   "metadata": {},
   "outputs": [
    {
     "name": "stdout",
     "output_type": "stream",
     "text": [
      "{'uid-externe': 'manual_scrap-filets-bleus-lass', 'title': {'fr': 'LASS'}, 'description': {'fr': 'Concert de Lass - Scène Armor'}, 'longDescription': 'Concert de Lass - Scène Armor', 'timings': [{'begin': '2025-08-13T19:00:00+02:00', 'end': '2025-08-13T20:30:00+02:00'}], 'lien': 'https://www.festivaldesfiletsbleus.bzh/artistes_2025.html#Lass', 'locationUid': 37681236, 'keywords': ['filets bleus', 'concert']}\n",
      "{'fr': 'LASS'}\n"
     ]
    },
    {
     "name": "stderr",
     "output_type": "stream",
     "text": [
      "INFO:root:New event: \"LASS\"                         https://openagenda.com/kerlandrier/contribute/event/89977579\n"
     ]
    },
    {
     "name": "stdout",
     "output_type": "stream",
     "text": [
      "{'success': True, 'event': {'uid': 89977579, 'slug': 'lass-1401465', 'private': False, 'timezone': 'Europe/Paris', 'draft': False, 'updatedAt': '2025-08-04T11:48:56.344Z', 'createdAt': '2025-08-04T11:48:56.344Z', 'creatorUid': 28551670, 'ownerUid': 28551670, 'agendaUid': 44891982, 'fileKey': 'ee74f5cdeb3e42d1b6ab7e352d5c519c', 'attendanceMode': 1, 'onlineAccessLink': None, 'locationUid': 37681236, 'image': None, 'imageCredits': None, 'title': {'fr': 'LASS'}, 'description': {'fr': 'Concert de Lass - Scène Armor'}, 'longDescription': {'fr': 'Concert de Lass - Scène Armor'}, 'keywords': {'0': ['filets bleus'], '1': ['concert']}, 'conditions': {}, 'age': {'min': None, 'max': None}, 'registration': [], 'accessibility': {'hi': False, 'ii': False, 'vi': False, 'mi': False, 'pi': False}, 'timings': [{'begin': '2025-08-13T19:00:00.000+02:00', 'end': '2025-08-13T20:30:00.000+02:00'}], 'status': 1, 'links': [], 'location': {'uid': 37681236, 'setUid': None, 'slug': 'quai-carnot-29900-concarneau-france_1139742', 'name': 'Quai Carnot', 'address': 'Quai Carnot, 29900 Concarneau, France', 'countryCode': 'FR', 'adminLevel1': 'Bretagne', 'adminLevel2': 'Finistère', 'adminLevel3': 'Concarneau Cornouaille Agglomération', 'adminLevel4': 'Concarneau', 'city': 'Concarneau', 'adminLevel5': None, 'district': None, 'postalCode': '29900', 'insee': '29039', 'latitude': 47.874684, 'longitude': -3.917302, 'region': 'Bretagne', 'department': 'Finistère', 'timezone': 'Europe/Paris', 'updatedAt': '2025-04-08T10:29:52.000Z', 'createdAt': '2025-04-08T09:48:07.000Z', 'image': None, 'description': {'fr': 'AVEN'}, 'tags': None, 'website': None, 'email': None, 'phone': None, 'links': [], 'access': {}, 'state': 1, 'imageCredits': None, 'extIds': None, 'duplicateCandidates': None, 'disqualifiedDuplicates': None, 'mergedIn': None, 'agendaUid': 44891982}, 'addMethod': 'contribution', 'uid-externe': 'manual_scrap-filets-bleus-lass', 'state': 2, 'featured': False, 'sourcePaths': [], 'aggregated': None, 'canEdit': True, 'motive': None, 'sourceAgendas': [], 'originAgenda': {'uid': 44891982, 'slug': 'kerlandrier', 'title': 'Kerlandrier', 'description': 'La culture c’est pas de la confiture.', 'image': 'https://cdn.openagenda.com/main/agenda44891982.jpg?__ts=1726842378021', 'url': 'https://kerlandrier.cc'}, 'member': {'userUid': 28551670, 'deletedUser': False, 'name': 'Jean Baptiste Bailly Gmail', 'phone': None, 'email': 'jean.baptiste.bailly@gmail.com', 'position': None, 'organization': None, 'role': 2, 'updatedAt': '2025-08-04T11:48:56.000Z'}}}\n",
      "{'uid-externe': 'manual_scrap-filets-bleus-sharon-shannon', 'title': {'fr': 'SHARON SHANNON'}, 'description': {'fr': 'Concert de Sharon shannon - Scène Armor'}, 'longDescription': 'Concert de Sharon shannon - Scène Armor', 'timings': [{'begin': '2025-08-13T20:45:00+02:00', 'end': '2025-08-13T22:15:00+02:00'}], 'lien': 'https://www.festivaldesfiletsbleus.bzh/artistes_2025.html#Sharon', 'locationUid': 37681236, 'keywords': ['filets bleus', 'concert']}\n",
      "{'fr': 'SHARON SHANNON'}\n"
     ]
    },
    {
     "name": "stderr",
     "output_type": "stream",
     "text": [
      "INFO:root:New event: \"SHARON SHANNON\"                         https://openagenda.com/kerlandrier/contribute/event/28249087\n"
     ]
    },
    {
     "name": "stdout",
     "output_type": "stream",
     "text": [
      "{'success': True, 'event': {'uid': 28249087, 'slug': 'sharon-shannon-6906819', 'private': False, 'timezone': 'Europe/Paris', 'draft': False, 'updatedAt': '2025-08-04T11:48:57.000Z', 'createdAt': '2025-08-04T11:48:56.945Z', 'creatorUid': 28551670, 'ownerUid': 28551670, 'agendaUid': 44891982, 'fileKey': '2889b890e8734b2a9e8ab63bf2227e3f', 'attendanceMode': 1, 'onlineAccessLink': None, 'locationUid': 37681236, 'image': None, 'imageCredits': None, 'title': {'fr': 'SHARON SHANNON'}, 'description': {'fr': 'Concert de Sharon shannon - Scène Armor'}, 'longDescription': {'fr': 'Concert de Sharon shannon - Scène Armor'}, 'keywords': {'0': ['filets bleus'], '1': ['concert']}, 'conditions': {}, 'age': {'min': None, 'max': None}, 'registration': [], 'accessibility': {'hi': False, 'ii': False, 'vi': False, 'mi': False, 'pi': False}, 'timings': [{'begin': '2025-08-13T20:45:00.000+02:00', 'end': '2025-08-13T22:15:00.000+02:00'}], 'status': 1, 'links': [], 'location': {'uid': 37681236, 'setUid': None, 'slug': 'quai-carnot-29900-concarneau-france_1139742', 'name': 'Quai Carnot', 'address': 'Quai Carnot, 29900 Concarneau, France', 'countryCode': 'FR', 'adminLevel1': 'Bretagne', 'adminLevel2': 'Finistère', 'adminLevel3': 'Concarneau Cornouaille Agglomération', 'adminLevel4': 'Concarneau', 'city': 'Concarneau', 'adminLevel5': None, 'district': None, 'postalCode': '29900', 'insee': '29039', 'latitude': 47.874684, 'longitude': -3.917302, 'region': 'Bretagne', 'department': 'Finistère', 'timezone': 'Europe/Paris', 'updatedAt': '2025-04-08T10:29:52.000Z', 'createdAt': '2025-04-08T09:48:07.000Z', 'image': None, 'description': {'fr': 'AVEN'}, 'tags': None, 'website': None, 'email': None, 'phone': None, 'links': [], 'access': {}, 'state': 1, 'imageCredits': None, 'extIds': None, 'duplicateCandidates': None, 'disqualifiedDuplicates': None, 'mergedIn': None, 'agendaUid': 44891982}, 'addMethod': 'contribution', 'uid-externe': 'manual_scrap-filets-bleus-sharon-shannon', 'state': 2, 'featured': False, 'sourcePaths': [], 'aggregated': None, 'canEdit': True, 'motive': None, 'sourceAgendas': [], 'originAgenda': {'uid': 44891982, 'slug': 'kerlandrier', 'title': 'Kerlandrier', 'description': 'La culture c’est pas de la confiture.', 'image': 'https://cdn.openagenda.com/main/agenda44891982.jpg?__ts=1726842378021', 'url': 'https://kerlandrier.cc'}, 'member': {'userUid': 28551670, 'deletedUser': False, 'name': 'Jean Baptiste Bailly Gmail', 'phone': None, 'email': 'jean.baptiste.bailly@gmail.com', 'position': None, 'organization': None, 'role': 2, 'updatedAt': '2025-08-04T11:48:57.000Z'}}}\n",
      "{'uid-externe': 'manual_scrap-filets-bleus-sonerien-du', 'title': {'fr': 'SONERIEN DU'}, 'description': {'fr': 'Concert de Sonerien du - Scène Armor'}, 'longDescription': 'Concert de Sonerien du - Scène Armor', 'timings': [{'begin': '2025-08-13T22:30:00+02:00', 'end': '2025-08-13T23:50:00+02:00'}], 'lien': 'https://www.festivaldesfiletsbleus.bzh/artistes_2025.html#Sonerien', 'locationUid': 37681236, 'keywords': ['filets bleus', 'concert']}\n",
      "{'fr': 'SONERIEN DU'}\n"
     ]
    },
    {
     "name": "stderr",
     "output_type": "stream",
     "text": [
      "INFO:root:New event: \"SONERIEN DU\"                         https://openagenda.com/kerlandrier/contribute/event/77591507\n"
     ]
    },
    {
     "name": "stdout",
     "output_type": "stream",
     "text": [
      "{'success': True, 'event': {'uid': 77591507, 'slug': 'sonerien-du-1678349', 'private': False, 'timezone': 'Europe/Paris', 'draft': False, 'updatedAt': '2025-08-04T11:48:57.417Z', 'createdAt': '2025-08-04T11:48:57.417Z', 'creatorUid': 28551670, 'ownerUid': 28551670, 'agendaUid': 44891982, 'fileKey': '5eb8a9b4e7e546e388a0d27557d294ec', 'attendanceMode': 1, 'onlineAccessLink': None, 'locationUid': 37681236, 'image': None, 'imageCredits': None, 'title': {'fr': 'SONERIEN DU'}, 'description': {'fr': 'Concert de Sonerien du - Scène Armor'}, 'longDescription': {'fr': 'Concert de Sonerien du - Scène Armor'}, 'keywords': {'0': ['filets bleus'], '1': ['concert']}, 'conditions': {}, 'age': {'min': None, 'max': None}, 'registration': [], 'accessibility': {'hi': False, 'ii': False, 'vi': False, 'mi': False, 'pi': False}, 'timings': [{'begin': '2025-08-13T22:30:00.000+02:00', 'end': '2025-08-13T23:50:00.000+02:00'}], 'status': 1, 'links': [], 'location': {'uid': 37681236, 'setUid': None, 'slug': 'quai-carnot-29900-concarneau-france_1139742', 'name': 'Quai Carnot', 'address': 'Quai Carnot, 29900 Concarneau, France', 'countryCode': 'FR', 'adminLevel1': 'Bretagne', 'adminLevel2': 'Finistère', 'adminLevel3': 'Concarneau Cornouaille Agglomération', 'adminLevel4': 'Concarneau', 'city': 'Concarneau', 'adminLevel5': None, 'district': None, 'postalCode': '29900', 'insee': '29039', 'latitude': 47.874684, 'longitude': -3.917302, 'region': 'Bretagne', 'department': 'Finistère', 'timezone': 'Europe/Paris', 'updatedAt': '2025-04-08T10:29:52.000Z', 'createdAt': '2025-04-08T09:48:07.000Z', 'image': None, 'description': {'fr': 'AVEN'}, 'tags': None, 'website': None, 'email': None, 'phone': None, 'links': [], 'access': {}, 'state': 1, 'imageCredits': None, 'extIds': None, 'duplicateCandidates': None, 'disqualifiedDuplicates': None, 'mergedIn': None, 'agendaUid': 44891982}, 'addMethod': 'contribution', 'uid-externe': 'manual_scrap-filets-bleus-sonerien-du', 'state': 2, 'featured': False, 'sourcePaths': [], 'aggregated': None, 'canEdit': True, 'motive': None, 'sourceAgendas': [], 'originAgenda': {'uid': 44891982, 'slug': 'kerlandrier', 'title': 'Kerlandrier', 'description': 'La culture c’est pas de la confiture.', 'image': 'https://cdn.openagenda.com/main/agenda44891982.jpg?__ts=1726842378021', 'url': 'https://kerlandrier.cc'}, 'member': {'userUid': 28551670, 'deletedUser': False, 'name': 'Jean Baptiste Bailly Gmail', 'phone': None, 'email': 'jean.baptiste.bailly@gmail.com', 'position': None, 'organization': None, 'role': 2, 'updatedAt': '2025-08-04T11:48:58.000Z'}}}\n",
      "{'uid-externe': 'manual_scrap-filets-bleus-cercle-celtique-ar-rouedoa-glas', 'title': {'fr': 'CERCLE CELTIQUE AR ROUEDOÃ\\x99 GLAS'}, 'description': {'fr': 'Concert de Cercle celtique ar rouedoã\\x99 glas - Scène Armor'}, 'longDescription': 'Concert de Cercle celtique ar rouedoã\\x99 glas - Scène Armor', 'timings': [{'begin': '2025-08-14T19:00:00+02:00', 'end': '2025-08-14T20:30:00+02:00'}], 'lien': 'https://www.festivaldesfiletsbleus.bzh/artistes_2025.html#Cercle', 'locationUid': 37681236, 'keywords': ['filets bleus', 'concert']}\n",
      "{'fr': 'CERCLE CELTIQUE AR ROUEDOÃ\\x99 GLAS'}\n"
     ]
    },
    {
     "name": "stderr",
     "output_type": "stream",
     "text": [
      "INFO:root:New event: \"CERCLE CELTIQUE AR ROUEDOÃ GLAS\"                         https://openagenda.com/kerlandrier/contribute/event/61473453\n"
     ]
    },
    {
     "name": "stdout",
     "output_type": "stream",
     "text": [
      "{'success': True, 'event': {'uid': 61473453, 'slug': 'cercle-celtique-ar-rouedoa-glas-4127912', 'private': False, 'timezone': 'Europe/Paris', 'draft': False, 'updatedAt': '2025-08-04T11:48:58.000Z', 'createdAt': '2025-08-04T11:48:57.914Z', 'creatorUid': 28551670, 'ownerUid': 28551670, 'agendaUid': 44891982, 'fileKey': '33c8d2ca02a14060901b99604000f2fb', 'attendanceMode': 1, 'onlineAccessLink': None, 'locationUid': 37681236, 'image': None, 'imageCredits': None, 'title': {'fr': 'CERCLE CELTIQUE AR ROUEDOÃ\\x99 GLAS'}, 'description': {'fr': 'Concert de Cercle celtique ar rouedoã\\x99 glas - Scène Armor'}, 'longDescription': {'fr': 'Concert de Cercle celtique ar rouedoã\\x99 glas - Scène Armor'}, 'keywords': {'0': ['filets bleus'], '1': ['concert']}, 'conditions': {}, 'age': {'min': None, 'max': None}, 'registration': [], 'accessibility': {'hi': False, 'ii': False, 'vi': False, 'mi': False, 'pi': False}, 'timings': [{'begin': '2025-08-14T19:00:00.000+02:00', 'end': '2025-08-14T20:30:00.000+02:00'}], 'status': 1, 'links': [], 'location': {'uid': 37681236, 'setUid': None, 'slug': 'quai-carnot-29900-concarneau-france_1139742', 'name': 'Quai Carnot', 'address': 'Quai Carnot, 29900 Concarneau, France', 'countryCode': 'FR', 'adminLevel1': 'Bretagne', 'adminLevel2': 'Finistère', 'adminLevel3': 'Concarneau Cornouaille Agglomération', 'adminLevel4': 'Concarneau', 'city': 'Concarneau', 'adminLevel5': None, 'district': None, 'postalCode': '29900', 'insee': '29039', 'latitude': 47.874684, 'longitude': -3.917302, 'region': 'Bretagne', 'department': 'Finistère', 'timezone': 'Europe/Paris', 'updatedAt': '2025-04-08T10:29:52.000Z', 'createdAt': '2025-04-08T09:48:07.000Z', 'image': None, 'description': {'fr': 'AVEN'}, 'tags': None, 'website': None, 'email': None, 'phone': None, 'links': [], 'access': {}, 'state': 1, 'imageCredits': None, 'extIds': None, 'duplicateCandidates': None, 'disqualifiedDuplicates': None, 'mergedIn': None, 'agendaUid': 44891982}, 'addMethod': 'contribution', 'uid-externe': 'manual_scrap-filets-bleus-cercle-celtique-ar-rouedoa-glas', 'state': 2, 'featured': False, 'sourcePaths': [], 'aggregated': None, 'canEdit': True, 'motive': None, 'sourceAgendas': [], 'originAgenda': {'uid': 44891982, 'slug': 'kerlandrier', 'title': 'Kerlandrier', 'description': 'La culture c’est pas de la confiture.', 'image': 'https://cdn.openagenda.com/main/agenda44891982.jpg?__ts=1726842378021', 'url': 'https://kerlandrier.cc'}, 'member': {'userUid': 28551670, 'deletedUser': False, 'name': 'Jean Baptiste Bailly Gmail', 'phone': None, 'email': 'jean.baptiste.bailly@gmail.com', 'position': None, 'organization': None, 'role': 2, 'updatedAt': '2025-08-04T11:48:58.000Z'}}}\n",
      "{'uid-externe': 'manual_scrap-filets-bleus-soldat-louis', 'title': {'fr': 'SOLDAT LOUIS'}, 'description': {'fr': 'Concert de Soldat louis - Scène Armor'}, 'longDescription': 'Concert de Soldat louis - Scène Armor', 'timings': [{'begin': '2025-08-14T20:45:00+02:00', 'end': '2025-08-14T22:15:00+02:00'}], 'lien': 'https://www.festivaldesfiletsbleus.bzh/artistes_2025.html#Soldat', 'locationUid': 37681236, 'keywords': ['filets bleus', 'concert']}\n",
      "{'fr': 'SOLDAT LOUIS'}\n"
     ]
    },
    {
     "name": "stderr",
     "output_type": "stream",
     "text": [
      "INFO:root:New event: \"SOLDAT LOUIS\"                         https://openagenda.com/kerlandrier/contribute/event/23351397\n"
     ]
    },
    {
     "name": "stdout",
     "output_type": "stream",
     "text": [
      "{'success': True, 'event': {'uid': 23351397, 'slug': 'soldat-louis-6007070', 'private': False, 'timezone': 'Europe/Paris', 'draft': False, 'updatedAt': '2025-08-04T11:48:59.000Z', 'createdAt': '2025-08-04T11:48:58.517Z', 'creatorUid': 28551670, 'ownerUid': 28551670, 'agendaUid': 44891982, 'fileKey': '2d7a176d93eb4551a170565c3a9a04ad', 'attendanceMode': 1, 'onlineAccessLink': None, 'locationUid': 37681236, 'image': None, 'imageCredits': None, 'title': {'fr': 'SOLDAT LOUIS'}, 'description': {'fr': 'Concert de Soldat louis - Scène Armor'}, 'longDescription': {'fr': 'Concert de Soldat louis - Scène Armor'}, 'keywords': {'0': ['filets bleus'], '1': ['concert']}, 'conditions': {}, 'age': {'min': None, 'max': None}, 'registration': [], 'accessibility': {'hi': False, 'ii': False, 'vi': False, 'mi': False, 'pi': False}, 'timings': [{'begin': '2025-08-14T20:45:00.000+02:00', 'end': '2025-08-14T22:15:00.000+02:00'}], 'status': 1, 'links': [], 'location': {'uid': 37681236, 'setUid': None, 'slug': 'quai-carnot-29900-concarneau-france_1139742', 'name': 'Quai Carnot', 'address': 'Quai Carnot, 29900 Concarneau, France', 'countryCode': 'FR', 'adminLevel1': 'Bretagne', 'adminLevel2': 'Finistère', 'adminLevel3': 'Concarneau Cornouaille Agglomération', 'adminLevel4': 'Concarneau', 'city': 'Concarneau', 'adminLevel5': None, 'district': None, 'postalCode': '29900', 'insee': '29039', 'latitude': 47.874684, 'longitude': -3.917302, 'region': 'Bretagne', 'department': 'Finistère', 'timezone': 'Europe/Paris', 'updatedAt': '2025-04-08T10:29:52.000Z', 'createdAt': '2025-04-08T09:48:07.000Z', 'image': None, 'description': {'fr': 'AVEN'}, 'tags': None, 'website': None, 'email': None, 'phone': None, 'links': [], 'access': {}, 'state': 1, 'imageCredits': None, 'extIds': None, 'duplicateCandidates': None, 'disqualifiedDuplicates': None, 'mergedIn': None, 'agendaUid': 44891982}, 'addMethod': 'contribution', 'uid-externe': 'manual_scrap-filets-bleus-soldat-louis', 'state': 2, 'featured': False, 'sourcePaths': [], 'aggregated': None, 'canEdit': True, 'motive': None, 'sourceAgendas': [], 'originAgenda': {'uid': 44891982, 'slug': 'kerlandrier', 'title': 'Kerlandrier', 'description': 'La culture c’est pas de la confiture.', 'image': 'https://cdn.openagenda.com/main/agenda44891982.jpg?__ts=1726842378021', 'url': 'https://kerlandrier.cc'}, 'member': {'userUid': 28551670, 'deletedUser': False, 'name': 'Jean Baptiste Bailly Gmail', 'phone': None, 'email': 'jean.baptiste.bailly@gmail.com', 'position': None, 'organization': None, 'role': 2, 'updatedAt': '2025-08-04T11:48:59.000Z'}}}\n",
      "{'uid-externe': 'manual_scrap-filets-bleus-o-tridal', 'title': {'fr': \"O'TRIDAL\"}, 'description': {'fr': \"Concert de O'tridal - Scène Armor\"}, 'longDescription': \"Concert de O'tridal - Scène Armor\", 'timings': [{'begin': '2025-08-14T22:30:00+02:00', 'end': '2025-08-14T23:50:00+02:00'}], 'lien': 'https://www.festivaldesfiletsbleus.bzh/artistes_2025.html#OTridal', 'locationUid': 37681236, 'keywords': ['filets bleus', 'concert']}\n",
      "{'fr': \"O'TRIDAL\"}\n"
     ]
    },
    {
     "name": "stderr",
     "output_type": "stream",
     "text": [
      "INFO:root:New event: \"O'TRIDAL\"                         https://openagenda.com/kerlandrier/contribute/event/80657056\n"
     ]
    },
    {
     "name": "stdout",
     "output_type": "stream",
     "text": [
      "{'success': True, 'event': {'uid': 80657056, 'slug': 'otridal-6521106', 'private': False, 'timezone': 'Europe/Paris', 'draft': False, 'updatedAt': '2025-08-04T11:48:59.077Z', 'createdAt': '2025-08-04T11:48:59.077Z', 'creatorUid': 28551670, 'ownerUid': 28551670, 'agendaUid': 44891982, 'fileKey': '9fdaed038d0344fd81246cde664066b3', 'attendanceMode': 1, 'onlineAccessLink': None, 'locationUid': 37681236, 'image': None, 'imageCredits': None, 'title': {'fr': \"O'TRIDAL\"}, 'description': {'fr': \"Concert de O'tridal - Scène Armor\"}, 'longDescription': {'fr': \"Concert de O'tridal - Scène Armor\"}, 'keywords': {'0': ['filets bleus'], '1': ['concert']}, 'conditions': {}, 'age': {'min': None, 'max': None}, 'registration': [], 'accessibility': {'hi': False, 'ii': False, 'vi': False, 'mi': False, 'pi': False}, 'timings': [{'begin': '2025-08-14T22:30:00.000+02:00', 'end': '2025-08-14T23:50:00.000+02:00'}], 'status': 1, 'links': [], 'location': {'uid': 37681236, 'setUid': None, 'slug': 'quai-carnot-29900-concarneau-france_1139742', 'name': 'Quai Carnot', 'address': 'Quai Carnot, 29900 Concarneau, France', 'countryCode': 'FR', 'adminLevel1': 'Bretagne', 'adminLevel2': 'Finistère', 'adminLevel3': 'Concarneau Cornouaille Agglomération', 'adminLevel4': 'Concarneau', 'city': 'Concarneau', 'adminLevel5': None, 'district': None, 'postalCode': '29900', 'insee': '29039', 'latitude': 47.874684, 'longitude': -3.917302, 'region': 'Bretagne', 'department': 'Finistère', 'timezone': 'Europe/Paris', 'updatedAt': '2025-04-08T10:29:52.000Z', 'createdAt': '2025-04-08T09:48:07.000Z', 'image': None, 'description': {'fr': 'AVEN'}, 'tags': None, 'website': None, 'email': None, 'phone': None, 'links': [], 'access': {}, 'state': 1, 'imageCredits': None, 'extIds': None, 'duplicateCandidates': None, 'disqualifiedDuplicates': None, 'mergedIn': None, 'agendaUid': 44891982}, 'addMethod': 'contribution', 'uid-externe': 'manual_scrap-filets-bleus-o-tridal', 'state': 2, 'featured': False, 'sourcePaths': [], 'aggregated': None, 'canEdit': True, 'motive': None, 'sourceAgendas': [], 'originAgenda': {'uid': 44891982, 'slug': 'kerlandrier', 'title': 'Kerlandrier', 'description': 'La culture c’est pas de la confiture.', 'image': 'https://cdn.openagenda.com/main/agenda44891982.jpg?__ts=1726842378021', 'url': 'https://kerlandrier.cc'}, 'member': {'userUid': 28551670, 'deletedUser': False, 'name': 'Jean Baptiste Bailly Gmail', 'phone': None, 'email': 'jean.baptiste.bailly@gmail.com', 'position': None, 'organization': None, 'role': 2, 'updatedAt': '2025-08-04T11:48:59.000Z'}}}\n",
      "{'uid-externe': 'manual_scrap-filets-bleus-batterie-fanfare-echo-du-mont-blanc', 'title': {'fr': 'BATTERIE FANFARE ECHO DU MONT BLANC'}, 'description': {'fr': 'Concert de Batterie fanfare echo du mont blanc - Scène Armor'}, 'longDescription': 'Concert de Batterie fanfare echo du mont blanc - Scène Armor', 'timings': [{'begin': '2025-08-15T19:00:00+02:00', 'end': '2025-08-15T20:30:00+02:00'}], 'lien': 'https://www.festivaldesfiletsbleus.bzh/artistes_2025.html#Fanfare', 'locationUid': 37681236, 'keywords': ['filets bleus', 'concert']}\n",
      "{'fr': 'BATTERIE FANFARE ECHO DU MONT BLANC'}\n"
     ]
    },
    {
     "name": "stderr",
     "output_type": "stream",
     "text": [
      "INFO:root:New event: \"BATTERIE FANFARE ECHO DU MONT BLANC\"                         https://openagenda.com/kerlandrier/contribute/event/67609285\n"
     ]
    },
    {
     "name": "stdout",
     "output_type": "stream",
     "text": [
      "{'success': True, 'event': {'uid': 67609285, 'slug': 'batterie-fanfare-echo-du-mont-blanc-5079176', 'private': False, 'timezone': 'Europe/Paris', 'draft': False, 'updatedAt': '2025-08-04T11:49:00.000Z', 'createdAt': '2025-08-04T11:48:59.526Z', 'creatorUid': 28551670, 'ownerUid': 28551670, 'agendaUid': 44891982, 'fileKey': '3c5543abe427436e9465172325c41977', 'attendanceMode': 1, 'onlineAccessLink': None, 'locationUid': 37681236, 'image': None, 'imageCredits': None, 'title': {'fr': 'BATTERIE FANFARE ECHO DU MONT BLANC'}, 'description': {'fr': 'Concert de Batterie fanfare echo du mont blanc - Scène Armor'}, 'longDescription': {'fr': 'Concert de Batterie fanfare echo du mont blanc - Scène Armor'}, 'keywords': {'0': ['filets bleus'], '1': ['concert']}, 'conditions': {}, 'age': {'min': None, 'max': None}, 'registration': [], 'accessibility': {'hi': False, 'ii': False, 'vi': False, 'mi': False, 'pi': False}, 'timings': [{'begin': '2025-08-15T19:00:00.000+02:00', 'end': '2025-08-15T20:30:00.000+02:00'}], 'status': 1, 'links': [], 'location': {'uid': 37681236, 'setUid': None, 'slug': 'quai-carnot-29900-concarneau-france_1139742', 'name': 'Quai Carnot', 'address': 'Quai Carnot, 29900 Concarneau, France', 'countryCode': 'FR', 'adminLevel1': 'Bretagne', 'adminLevel2': 'Finistère', 'adminLevel3': 'Concarneau Cornouaille Agglomération', 'adminLevel4': 'Concarneau', 'city': 'Concarneau', 'adminLevel5': None, 'district': None, 'postalCode': '29900', 'insee': '29039', 'latitude': 47.874684, 'longitude': -3.917302, 'region': 'Bretagne', 'department': 'Finistère', 'timezone': 'Europe/Paris', 'updatedAt': '2025-04-08T10:29:52.000Z', 'createdAt': '2025-04-08T09:48:07.000Z', 'image': None, 'description': {'fr': 'AVEN'}, 'tags': None, 'website': None, 'email': None, 'phone': None, 'links': [], 'access': {}, 'state': 1, 'imageCredits': None, 'extIds': None, 'duplicateCandidates': None, 'disqualifiedDuplicates': None, 'mergedIn': None, 'agendaUid': 44891982}, 'addMethod': 'contribution', 'uid-externe': 'manual_scrap-filets-bleus-batterie-fanfare-echo-du-mont-blanc', 'state': 2, 'featured': False, 'sourcePaths': [], 'aggregated': None, 'canEdit': True, 'motive': None, 'sourceAgendas': [], 'originAgenda': {'uid': 44891982, 'slug': 'kerlandrier', 'title': 'Kerlandrier', 'description': 'La culture c’est pas de la confiture.', 'image': 'https://cdn.openagenda.com/main/agenda44891982.jpg?__ts=1726842378021', 'url': 'https://kerlandrier.cc'}, 'member': {'userUid': 28551670, 'deletedUser': False, 'name': 'Jean Baptiste Bailly Gmail', 'phone': None, 'email': 'jean.baptiste.bailly@gmail.com', 'position': None, 'organization': None, 'role': 2, 'updatedAt': '2025-08-04T11:49:00.000Z'}}}\n",
      "{'uid-externe': 'manual_scrap-filets-bleus-boulevard-des-airs', 'title': {'fr': 'BOULEVARD DES AIRS'}, 'description': {'fr': 'Concert de Boulevard des airs - Scène Armor'}, 'longDescription': 'Concert de Boulevard des airs - Scène Armor', 'timings': [{'begin': '2025-08-15T20:45:00+02:00', 'end': '2025-08-15T22:15:00+02:00'}], 'lien': 'https://www.festivaldesfiletsbleus.bzh/artistes_2025.html#Boulevard', 'locationUid': 37681236, 'keywords': ['filets bleus', 'concert']}\n",
      "{'fr': 'BOULEVARD DES AIRS'}\n"
     ]
    },
    {
     "name": "stderr",
     "output_type": "stream",
     "text": [
      "INFO:root:New event: \"BOULEVARD DES AIRS\"                         https://openagenda.com/kerlandrier/contribute/event/35888069\n"
     ]
    },
    {
     "name": "stdout",
     "output_type": "stream",
     "text": [
      "{'success': True, 'event': {'uid': 35888069, 'slug': 'boulevard-des-airs-7013859', 'private': False, 'timezone': 'Europe/Paris', 'draft': False, 'updatedAt': '2025-08-04T11:49:00.142Z', 'createdAt': '2025-08-04T11:49:00.142Z', 'creatorUid': 28551670, 'ownerUid': 28551670, 'agendaUid': 44891982, 'fileKey': '5846f3e1a72b4b299f813203ce7d1882', 'attendanceMode': 1, 'onlineAccessLink': None, 'locationUid': 37681236, 'image': None, 'imageCredits': None, 'title': {'fr': 'BOULEVARD DES AIRS'}, 'description': {'fr': 'Concert de Boulevard des airs - Scène Armor'}, 'longDescription': {'fr': 'Concert de Boulevard des airs - Scène Armor'}, 'keywords': {'0': ['filets bleus'], '1': ['concert']}, 'conditions': {}, 'age': {'min': None, 'max': None}, 'registration': [], 'accessibility': {'hi': False, 'ii': False, 'vi': False, 'mi': False, 'pi': False}, 'timings': [{'begin': '2025-08-15T20:45:00.000+02:00', 'end': '2025-08-15T22:15:00.000+02:00'}], 'status': 1, 'links': [], 'location': {'uid': 37681236, 'setUid': None, 'slug': 'quai-carnot-29900-concarneau-france_1139742', 'name': 'Quai Carnot', 'address': 'Quai Carnot, 29900 Concarneau, France', 'countryCode': 'FR', 'adminLevel1': 'Bretagne', 'adminLevel2': 'Finistère', 'adminLevel3': 'Concarneau Cornouaille Agglomération', 'adminLevel4': 'Concarneau', 'city': 'Concarneau', 'adminLevel5': None, 'district': None, 'postalCode': '29900', 'insee': '29039', 'latitude': 47.874684, 'longitude': -3.917302, 'region': 'Bretagne', 'department': 'Finistère', 'timezone': 'Europe/Paris', 'updatedAt': '2025-04-08T10:29:52.000Z', 'createdAt': '2025-04-08T09:48:07.000Z', 'image': None, 'description': {'fr': 'AVEN'}, 'tags': None, 'website': None, 'email': None, 'phone': None, 'links': [], 'access': {}, 'state': 1, 'imageCredits': None, 'extIds': None, 'duplicateCandidates': None, 'disqualifiedDuplicates': None, 'mergedIn': None, 'agendaUid': 44891982}, 'addMethod': 'contribution', 'uid-externe': 'manual_scrap-filets-bleus-boulevard-des-airs', 'state': 2, 'featured': False, 'sourcePaths': [], 'aggregated': None, 'canEdit': True, 'motive': None, 'sourceAgendas': [], 'originAgenda': {'uid': 44891982, 'slug': 'kerlandrier', 'title': 'Kerlandrier', 'description': 'La culture c’est pas de la confiture.', 'image': 'https://cdn.openagenda.com/main/agenda44891982.jpg?__ts=1726842378021', 'url': 'https://kerlandrier.cc'}, 'member': {'userUid': 28551670, 'deletedUser': False, 'name': 'Jean Baptiste Bailly Gmail', 'phone': None, 'email': 'jean.baptiste.bailly@gmail.com', 'position': None, 'organization': None, 'role': 2, 'updatedAt': '2025-08-04T11:49:00.000Z'}}}\n",
      "{'uid-externe': 'manual_scrap-filets-bleus-ampouailh', 'title': {'fr': 'AMPOUAILH'}, 'description': {'fr': 'Concert de Ampouailh - Scène Armor'}, 'longDescription': 'Concert de Ampouailh - Scène Armor', 'timings': [{'begin': '2025-08-15T22:30:00+02:00', 'end': '2025-08-15T23:50:00+02:00'}], 'lien': 'https://www.festivaldesfiletsbleus.bzh/artistes_2025.html#Ampouailh', 'locationUid': 37681236, 'keywords': ['filets bleus', 'concert']}\n",
      "{'fr': 'AMPOUAILH'}\n"
     ]
    },
    {
     "name": "stderr",
     "output_type": "stream",
     "text": [
      "INFO:root:New event: \"AMPOUAILH\"                         https://openagenda.com/kerlandrier/contribute/event/60279731\n"
     ]
    },
    {
     "name": "stdout",
     "output_type": "stream",
     "text": [
      "{'success': True, 'event': {'uid': 60279731, 'slug': 'ampouailh-6042500', 'private': False, 'timezone': 'Europe/Paris', 'draft': False, 'updatedAt': '2025-08-04T11:49:01.000Z', 'createdAt': '2025-08-04T11:49:00.542Z', 'creatorUid': 28551670, 'ownerUid': 28551670, 'agendaUid': 44891982, 'fileKey': '5ced686a03e643a2a6e74b870e408673', 'attendanceMode': 1, 'onlineAccessLink': None, 'locationUid': 37681236, 'image': None, 'imageCredits': None, 'title': {'fr': 'AMPOUAILH'}, 'description': {'fr': 'Concert de Ampouailh - Scène Armor'}, 'longDescription': {'fr': 'Concert de Ampouailh - Scène Armor'}, 'keywords': {'0': ['filets bleus'], '1': ['concert']}, 'conditions': {}, 'age': {'min': None, 'max': None}, 'registration': [], 'accessibility': {'hi': False, 'ii': False, 'vi': False, 'mi': False, 'pi': False}, 'timings': [{'begin': '2025-08-15T22:30:00.000+02:00', 'end': '2025-08-15T23:50:00.000+02:00'}], 'status': 1, 'links': [], 'location': {'uid': 37681236, 'setUid': None, 'slug': 'quai-carnot-29900-concarneau-france_1139742', 'name': 'Quai Carnot', 'address': 'Quai Carnot, 29900 Concarneau, France', 'countryCode': 'FR', 'adminLevel1': 'Bretagne', 'adminLevel2': 'Finistère', 'adminLevel3': 'Concarneau Cornouaille Agglomération', 'adminLevel4': 'Concarneau', 'city': 'Concarneau', 'adminLevel5': None, 'district': None, 'postalCode': '29900', 'insee': '29039', 'latitude': 47.874684, 'longitude': -3.917302, 'region': 'Bretagne', 'department': 'Finistère', 'timezone': 'Europe/Paris', 'updatedAt': '2025-04-08T10:29:52.000Z', 'createdAt': '2025-04-08T09:48:07.000Z', 'image': None, 'description': {'fr': 'AVEN'}, 'tags': None, 'website': None, 'email': None, 'phone': None, 'links': [], 'access': {}, 'state': 1, 'imageCredits': None, 'extIds': None, 'duplicateCandidates': None, 'disqualifiedDuplicates': None, 'mergedIn': None, 'agendaUid': 44891982}, 'addMethod': 'contribution', 'uid-externe': 'manual_scrap-filets-bleus-ampouailh', 'state': 2, 'featured': False, 'sourcePaths': [], 'aggregated': None, 'canEdit': True, 'motive': None, 'sourceAgendas': [], 'originAgenda': {'uid': 44891982, 'slug': 'kerlandrier', 'title': 'Kerlandrier', 'description': 'La culture c’est pas de la confiture.', 'image': 'https://cdn.openagenda.com/main/agenda44891982.jpg?__ts=1726842378021', 'url': 'https://kerlandrier.cc'}, 'member': {'userUid': 28551670, 'deletedUser': False, 'name': 'Jean Baptiste Bailly Gmail', 'phone': None, 'email': 'jean.baptiste.bailly@gmail.com', 'position': None, 'organization': None, 'role': 2, 'updatedAt': '2025-08-04T11:49:01.000Z'}}}\n"
     ]
    }
   ],
   "source": [
    "for event in concertsD:\n",
    "    print(event)\n",
    "    print (event.get(\"title\"))\n",
    "    response = HttpRequests.create_event(access_token,\n",
    "                                        event,\n",
    "    )\n",
    "    print(response)"
   ]
  },
  {
   "cell_type": "code",
   "execution_count": null,
   "id": "5e45de33",
   "metadata": {},
   "outputs": [],
   "source": []
  }
 ],
 "metadata": {
  "kernelspec": {
   "display_name": ".venv",
   "language": "python",
   "name": "python3"
  },
  "language_info": {
   "codemirror_mode": {
    "name": "ipython",
    "version": 3
   },
   "file_extension": ".py",
   "mimetype": "text/x-python",
   "name": "python",
   "nbconvert_exporter": "python",
   "pygments_lexer": "ipython3",
   "version": "3.12.9"
  }
 },
 "nbformat": 4,
 "nbformat_minor": 5
}
