{
 "cells": [
  {
   "cell_type": "code",
   "execution_count": null,
   "id": "be4a944b-de60-4a44-831f-1f3c51ee617a",
   "metadata": {},
   "outputs": [],
   "source": [
    "# Scraping from Filets bleus website eclate au sole"
   ]
  },
  {
   "cell_type": "code",
   "execution_count": null,
   "id": "b12f6b76-9929-48ca-8cf4-01992b6f175d",
   "metadata": {},
   "outputs": [
    {
     "name": "stdout",
     "output_type": "stream",
     "text": [
      "/var/www/kerlandrier_mono/api/script/scraping/2025_filets_bleus\n"
     ]
    }
   ],
   "source": [
    "# Needed ?\n",
    "cd ."
   ]
  },
  {
   "cell_type": "code",
   "execution_count": null,
   "id": "1b7616c5-2300-4d41-801d-18d2f7839603",
   "metadata": {},
   "outputs": [],
   "source": [
    "# Import libs\n",
    "import sys\n",
    "import os\n",
    "import git\n",
    "import pandas as pd\n",
    "from dateparser import parse as dparse\n",
    "\n",
    "# Ajoute le dossier \"ressources\" au sys.path\n",
    "git_root = git.Repo(search_parent_directories=True).working_tree_dir\n",
    "sys.path.insert(0,   os.path.abspath(  os.path.join(  git_root,'api' ) ) )\n",
    "\n",
    "import script.libs.utils as utils\n",
    "import script.libs.scraping_utils as scraping_utils\n",
    "import script.libs.HttpRequests as HttpRequests\n",
    "from script.configuration import config, oa\n",
    "from script.libs.getOaLocation import get_or_create_oa_location\n",
    "\n",
    "from slugify import slugify\n",
    "import os\n",
    "import requests\n",
    "# import requests_cache\n",
    "from bs4 import BeautifulSoup\n",
    "import  dateparser, pytz\n",
    "from urllib.parse import urlparse"
   ]
  },
  {
   "cell_type": "code",
   "execution_count": null,
   "id": "fcb9bf5c-d3b2-481f-ab38-118e19b97c97",
   "metadata": {},
   "outputs": [],
   "source": [
    "# Constants for Scraping\n",
    "baseURL= \"https://www.festivaldesfiletsbleus.bzh/\"\n",
    "allEventsPage= f\"{baseURL}/programme_filets_bleus_2025.html\"\n",
    "# locale.setlocale(locale.LC_ALL, 'fr_FR.UTF-8')\n",
    "# DEFAULT_TIME_START = \"20:00:00\"\n",
    "# DEFAULT_TIME_END = \"22:00:00\"\n",
    "getTimeout= scraping_utils.getTimeout"
   ]
  },
  {
   "cell_type": "code",
   "execution_count": null,
   "id": "f6abb0fd",
   "metadata": {},
   "outputs": [],
   "source": [
    "# Get the HTML content of the events page\n",
    "html_doc = requests.get(allEventsPage, timeout=getTimeout).content.decode('ISO-8859-1',errors='replace')\n",
    "parsed_html = BeautifulSoup(html_doc ,'html.parser')"
   ]
  },
  {
   "cell_type": "code",
   "execution_count": null,
   "id": "00d14f39",
   "metadata": {},
   "outputs": [
    {
     "name": "stdout",
     "output_type": "stream",
     "text": [
      "Dates: ['MERCREDI 13 AOÃ\\x9bT 2025', 'JEUDI 14 AOÃ\\x9bT 2025', 'VENDREDI 15 AOÃ\\x9bT 2025', 'SAMEDI 16 AOÃ\\x9bT 2025', 'DIMANCHE 17 AOÃ\\x9bT 2025']\n"
     ]
    }
   ],
   "source": [
    "# Extract concerts dates (3) from the HTML\n",
    "dateSelector= \"div > h6\"\n",
    "extractedDates= extractedConcerts = parsed_html.select(dateSelector)\n",
    "dates = [f\"{d.text} 2025\" for d in extractedDates if d.text.strip() != \"\"]\n",
    "print(\"Dates:\", dates)"
   ]
  },
  {
   "cell_type": "code",
   "execution_count": null,
   "id": "9ee89e27",
   "metadata": {},
   "outputs": [
    {
     "name": "stdout",
     "output_type": "stream",
     "text": [
      "[['19h00-20h30 ', ' LASS ', ' MERCREDI 13 AOÃ\\x9bT 2025 ', ' https://www.festivaldesfiletsbleus.bzh/artistes_2025.html#Lass'], ['20h45-22h15 ', ' SHARON SHANNON ', ' MERCREDI 13 AOÃ\\x9bT 2025 ', ' https://www.festivaldesfiletsbleus.bzh/artistes_2025.html#Sharon'], ['22h30-00h00 ', ' SONERIEN DU ', ' MERCREDI 13 AOÃ\\x9bT 2025 ', ' https://www.festivaldesfiletsbleus.bzh/artistes_2025.html#Sonerien'], ['19h00-20h30 ', ' CERCLE CELTIQUE AR ROUEDOÃ\\x99 GLAS ', ' JEUDI 14 AOÃ\\x9bT 2025 ', ' https://www.festivaldesfiletsbleus.bzh/artistes_2025.html#Cercle'], ['20h45-22h15 ', ' SOLDAT LOUIS ', ' JEUDI 14 AOÃ\\x9bT 2025 ', ' https://www.festivaldesfiletsbleus.bzh/artistes_2025.html#Soldat'], ['22h30-00h00 ', \" O'TRIDAL \", ' JEUDI 14 AOÃ\\x9bT 2025 ', ' https://www.festivaldesfiletsbleus.bzh/artistes_2025.html#OTridal'], ['19h00-20h30 ', ' BATTERIE FANFARE ECHO DU MONT BLANC ', ' VENDREDI 15 AOÃ\\x9bT 2025 ', ' https://www.festivaldesfiletsbleus.bzh/artistes_2025.html#Fanfare'], ['20h45-22h15 ', ' BOULEVARD DES AIRS ', ' VENDREDI 15 AOÃ\\x9bT 2025 ', ' https://www.festivaldesfiletsbleus.bzh/artistes_2025.html#Boulevard'], ['22h30-00h00 ', ' AMPOUAILH ', ' VENDREDI 15 AOÃ\\x9bT 2025 ', ' https://www.festivaldesfiletsbleus.bzh/artistes_2025.html#Ampouailh']]\n",
      "[['22h30-00h00 ',\n",
      "  ' SONERIEN DU ',\n",
      "  ' MERCREDI 13 AOÃ\\x9bT 2025 ',\n",
      "  ' https://www.festivaldesfiletsbleus.bzh/artistes_2025.html#Sonerien'],\n",
      " ['19h00-20h30 ',\n",
      "  ' CERCLE CELTIQUE AR ROUEDOÃ\\x99 GLAS ',\n",
      "  ' JEUDI 14 AOÃ\\x9bT 2025 ',\n",
      "  ' https://www.festivaldesfiletsbleus.bzh/artistes_2025.html#Cercle'],\n",
      " ['20h45-22h15 ',\n",
      "  ' SOLDAT LOUIS ',\n",
      "  ' JEUDI 14 AOÃ\\x9bT 2025 ',\n",
      "  ' https://www.festivaldesfiletsbleus.bzh/artistes_2025.html#Soldat'],\n",
      " ['22h30-00h00 ',\n",
      "  \" O'TRIDAL \",\n",
      "  ' JEUDI 14 AOÃ\\x9bT 2025 ',\n",
      "  ' https://www.festivaldesfiletsbleus.bzh/artistes_2025.html#OTridal'],\n",
      " ['19h00-20h30 ',\n",
      "  ' BATTERIE FANFARE ECHO DU MONT BLANC ',\n",
      "  ' VENDREDI 15 AOÃ\\x9bT 2025 ',\n",
      "  ' https://www.festivaldesfiletsbleus.bzh/artistes_2025.html#Fanfare'],\n",
      " ['20h45-22h15 ',\n",
      "  ' BOULEVARD DES AIRS ',\n",
      "  ' VENDREDI 15 AOÃ\\x9bT 2025 ',\n",
      "  ' https://www.festivaldesfiletsbleus.bzh/artistes_2025.html#Boulevard'],\n",
      " ['22h30-00h00 ',\n",
      "  ' AMPOUAILH ',\n",
      "  ' VENDREDI 15 AOÃ\\x9bT 2025 ',\n",
      "  ' https://www.festivaldesfiletsbleus.bzh/artistes_2025.html#Ampouailh']]\n"
     ]
    }
   ],
   "source": [
    "import pprint\n",
    "\n",
    "# Extract timing and names\n",
    "allEventsSelector= \"span.PROGTXT p\" #encarts où cse trouve la liste des événements\n",
    "for e in parsed_html.find_all('br'):\n",
    "    e.extract()\n",
    "extractedConcerts = parsed_html.select(allEventsSelector)\n",
    "\n",
    "# Split concerts start,end and names in List\n",
    "concerts=[]\n",
    "for d,part in enumerate(extractedConcerts):\n",
    "    splitted =part.get_text().strip().split('\\n')\n",
    "    i=0\n",
    "    for c in splitted:\n",
    "        # Merging lines from the same event\n",
    "        if c.find(\":\") <0 and i > 0: \n",
    "            concerts[-1] = f\"{(splitted[i-1]+ \" \" + splitted[i]).replace(\":\",\"__\")} __ {dates[d]} __ {baseURL}{part.select(\"a\")[i-1][\"href\"].strip()}\"\n",
    "            c=c.replace(\":\",\"__\")\n",
    "            continue\n",
    "        c=c.replace(\":\",\"__\")\n",
    "        concerts.append( f\"{c.strip()} __ {dates[d]} __ {baseURL}{part.select(\"a\")[i][\"href\"].strip()}\" )\n",
    "        i+=1\n",
    "\n",
    "concerts = [c.split(\"__\") for c in concerts]\n",
    "\n",
    "print(concerts)\n",
    "pprint.pprint(concerts[2:])\n",
    "\n"
   ]
  },
  {
   "cell_type": "code",
   "execution_count": null,
   "id": "2ca55cde",
   "metadata": {},
   "outputs": [
    {
     "name": "stderr",
     "output_type": "stream",
     "text": [
      "INFO:script.libs.getOaLocation:- searching location for : 'Quai Carnot, Concarneau'\n",
      "INFO:script.libs.getOaLocation: (optimized name for better matching:  'Quai Carnot Concarneau')\n",
      "INFO:script.libs.getOaLocation:- 🎯 Location found in OA: ('Quai Carnot Quai Carnot, 29900 Concarneau, France', 100, 37681236)\n"
     ]
    }
   ],
   "source": [
    "# Get constants for OA API\n",
    "access_token = oa.getToken()\n",
    "\n",
    "timezone_paris = pytz.timezone('Europe/Paris')\n",
    "locationUid= get_or_create_oa_location(\"Quai Carnot, Concarneau\",\n",
    "                                        access_token,\n",
    "                                        oa.public_key,\n",
    "                                        f\"{config.OA_API_URL}/locations\")\n"
   ]
  },
  {
   "cell_type": "code",
   "execution_count": null,
   "id": "e67fc4b9",
   "metadata": {},
   "outputs": [
    {
     "name": "stdout",
     "output_type": "stream",
     "text": [
      "23h50 JEUDI 14 aout 2025\n",
      "2025-08-14T23:50:00+02:00\n"
     ]
    }
   ],
   "source": [
    "# TEST\n",
    "# Date formatting. Replace 00h00 by 23h50 to avoid end before start\n",
    "c=concerts[5]\n",
    "date=f\"{c[0].split(\"-\")[1].strip().replace(\"00h00\",\"23h50\")} {c[2].strip().replace(\"AOÃ\\x9bT\", \"aout\")}\"\n",
    "print(date)\n",
    "datetz=dateparser.parse(date).astimezone(timezone_paris).isoformat()\n",
    "print(datetz)\n"
   ]
  },
  {
   "cell_type": "code",
   "execution_count": null,
   "id": "a9b30607",
   "metadata": {},
   "outputs": [
    {
     "name": "stdout",
     "output_type": "stream",
     "text": [
      "[{'description': {'fr': 'Concert de Lass - Scène Armor'},\n",
      "  'keywords': ['filets bleus', 'concert'],\n",
      "  'lien': 'https://www.festivaldesfiletsbleus.bzh/artistes_2025.html#Lass',\n",
      "  'locationUid': 37681236,\n",
      "  'longDescription': 'Concert de Lass - Scène Armor',\n",
      "  'timings': [{'begin': '2025-08-13T19:00:00+02:00',\n",
      "               'end': '2025-08-13T20:30:00+02:00'}],\n",
      "  'title': {'fr': 'Lass'},\n",
      "  'uid-externe': 'manual_scrap-filets-bleus-lass'},\n",
      " {'description': {'fr': 'Concert de Sharon shannon - Scène Armor'},\n",
      "  'keywords': ['filets bleus', 'concert'],\n",
      "  'lien': 'https://www.festivaldesfiletsbleus.bzh/artistes_2025.html#Sharon',\n",
      "  'locationUid': 37681236,\n",
      "  'longDescription': 'Concert de Sharon shannon - Scène Armor',\n",
      "  'timings': [{'begin': '2025-08-13T20:45:00+02:00',\n",
      "               'end': '2025-08-13T22:15:00+02:00'}],\n",
      "  'title': {'fr': 'Sharon shannon'},\n",
      "  'uid-externe': 'manual_scrap-filets-bleus-sharon-shannon'},\n",
      " {'description': {'fr': 'Concert de Sonerien du - Scène Armor'},\n",
      "  'keywords': ['filets bleus', 'concert'],\n",
      "  'lien': 'https://www.festivaldesfiletsbleus.bzh/artistes_2025.html#Sonerien',\n",
      "  'locationUid': 37681236,\n",
      "  'longDescription': 'Concert de Sonerien du - Scène Armor',\n",
      "  'timings': [{'begin': '2025-08-13T22:30:00+02:00',\n",
      "               'end': '2025-08-13T23:50:00+02:00'}],\n",
      "  'title': {'fr': 'Sonerien du'},\n",
      "  'uid-externe': 'manual_scrap-filets-bleus-sonerien-du'},\n",
      " {'description': {'fr': 'Concert de Cercle celtique ar rouedoã\\x99 glas - '\n",
      "                        'Scène Armor'},\n",
      "  'keywords': ['filets bleus', 'concert'],\n",
      "  'lien': 'https://www.festivaldesfiletsbleus.bzh/artistes_2025.html#Cercle',\n",
      "  'locationUid': 37681236,\n",
      "  'longDescription': 'Concert de Cercle celtique ar rouedoã\\x99 glas - Scène '\n",
      "                     'Armor',\n",
      "  'timings': [{'begin': '2025-08-14T19:00:00+02:00',\n",
      "               'end': '2025-08-14T20:30:00+02:00'}],\n",
      "  'title': {'fr': 'Cercle celtique ar rouedoã\\x99 glas'},\n",
      "  'uid-externe': 'manual_scrap-filets-bleus-cercle-celtique-ar-rouedoa-glas'},\n",
      " {'description': {'fr': 'Concert de Soldat louis - Scène Armor'},\n",
      "  'keywords': ['filets bleus', 'concert'],\n",
      "  'lien': 'https://www.festivaldesfiletsbleus.bzh/artistes_2025.html#Soldat',\n",
      "  'locationUid': 37681236,\n",
      "  'longDescription': 'Concert de Soldat louis - Scène Armor',\n",
      "  'timings': [{'begin': '2025-08-14T20:45:00+02:00',\n",
      "               'end': '2025-08-14T22:15:00+02:00'}],\n",
      "  'title': {'fr': 'Soldat louis'},\n",
      "  'uid-externe': 'manual_scrap-filets-bleus-soldat-louis'},\n",
      " {'description': {'fr': \"Concert de O'tridal - Scène Armor\"},\n",
      "  'keywords': ['filets bleus', 'concert'],\n",
      "  'lien': 'https://www.festivaldesfiletsbleus.bzh/artistes_2025.html#OTridal',\n",
      "  'locationUid': 37681236,\n",
      "  'longDescription': \"Concert de O'tridal - Scène Armor\",\n",
      "  'timings': [{'begin': '2025-08-14T22:30:00+02:00',\n",
      "               'end': '2025-08-14T23:50:00+02:00'}],\n",
      "  'title': {'fr': \"O'tridal\"},\n",
      "  'uid-externe': 'manual_scrap-filets-bleus-o-tridal'},\n",
      " {'description': {'fr': 'Concert de Batterie fanfare echo du mont blanc - '\n",
      "                        'Scène Armor'},\n",
      "  'keywords': ['filets bleus', 'concert'],\n",
      "  'lien': 'https://www.festivaldesfiletsbleus.bzh/artistes_2025.html#Fanfare',\n",
      "  'locationUid': 37681236,\n",
      "  'longDescription': 'Concert de Batterie fanfare echo du mont blanc - Scène '\n",
      "                     'Armor',\n",
      "  'timings': [{'begin': '2025-08-15T19:00:00+02:00',\n",
      "               'end': '2025-08-15T20:30:00+02:00'}],\n",
      "  'title': {'fr': 'Batterie fanfare echo du mont blanc'},\n",
      "  'uid-externe': 'manual_scrap-filets-bleus-batterie-fanfare-echo-du-mont-blanc'},\n",
      " {'description': {'fr': 'Concert de Boulevard des airs - Scène Armor'},\n",
      "  'keywords': ['filets bleus', 'concert'],\n",
      "  'lien': 'https://www.festivaldesfiletsbleus.bzh/artistes_2025.html#Boulevard',\n",
      "  'locationUid': 37681236,\n",
      "  'longDescription': 'Concert de Boulevard des airs - Scène Armor',\n",
      "  'timings': [{'begin': '2025-08-15T20:45:00+02:00',\n",
      "               'end': '2025-08-15T22:15:00+02:00'}],\n",
      "  'title': {'fr': 'Boulevard des airs'},\n",
      "  'uid-externe': 'manual_scrap-filets-bleus-boulevard-des-airs'},\n",
      " {'description': {'fr': 'Concert de Ampouailh - Scène Armor'},\n",
      "  'keywords': ['filets bleus', 'concert'],\n",
      "  'lien': 'https://www.festivaldesfiletsbleus.bzh/artistes_2025.html#Ampouailh',\n",
      "  'locationUid': 37681236,\n",
      "  'longDescription': 'Concert de Ampouailh - Scène Armor',\n",
      "  'timings': [{'begin': '2025-08-15T22:30:00+02:00',\n",
      "               'end': '2025-08-15T23:50:00+02:00'}],\n",
      "  'title': {'fr': 'Ampouailh'},\n",
      "  'uid-externe': 'manual_scrap-filets-bleus-ampouailh'}]\n"
     ]
    }
   ],
   "source": [
    "# Create the concerts data structure based on OA formatting\n",
    "concertsD= []\n",
    "for index,c in enumerate(concerts):\n",
    "    datedebut=dparse(f\"{c[0].split(\"-\")[0].strip().replace(\"00h00\",\"23h50\")} {c[2].strip().replace(\"AOÃ\\x9bT\", \"aout\")}\").astimezone(timezone_paris).isoformat()\n",
    "    datefin=dparse(f\"{c[0].split(\"-\")[1].strip().replace(\"00h00\",\"23h50\")} {c[2].strip().replace(\"AOÃ\\x9bT\", \"aout\")}\").astimezone(timezone_paris).isoformat()\n",
    "    concertsD.append({\n",
    "        \"uid-externe\": \"manual_scrap-filets-bleus-\" + slugify(f\"{c[1].strip()}\"),\n",
    "        \"title\": { \"fr\": f\"{c[1].strip().capitalize()}\"},\n",
    "        \"description\": { \"fr\": f\"Concert de {c[1].strip().capitalize()} - Scène Armor\"},\n",
    "        \"longDescription\": f\"Concert de {c[1].strip().capitalize()} - Scène Armor\",\n",
    "        \"timings\": [\n",
    "            {\n",
    "                \"begin\": datedebut,\n",
    "                \"end\": datefin\n",
    "            }\n",
    "        ],\n",
    "        \"lien\": c[3].strip(),\n",
    "        \"locationUid\": locationUid,\n",
    "        \"keywords\": ['filets bleus', 'concert']\n",
    "    }\n",
    "    )\n",
    "\n",
    "pprint.pprint(concertsD)"
   ]
  },
  {
   "cell_type": "code",
   "execution_count": null,
   "id": "6fb2eb87",
   "metadata": {},
   "outputs": [
    {
     "name": "stdout",
     "output_type": "stream",
     "text": [
      "{'uid-externe': 'manual_scrap-filets-bleus-lass', 'title': {'fr': 'Lass'}, 'description': {'fr': 'Concert de Lass - Scène Armor'}, 'longDescription': 'Concert de Lass - Scène Armor', 'timings': [{'begin': '2025-08-13T19:00:00+02:00', 'end': '2025-08-13T20:30:00+02:00'}], 'lien': 'https://www.festivaldesfiletsbleus.bzh/artistes_2025.html#Lass', 'locationUid': 37681236, 'keywords': ['filets bleus', 'concert']}\n",
      "{'fr': 'Lass'}\n"
     ]
    },
    {
     "name": "stderr",
     "output_type": "stream",
     "text": [
      "INFO:root:New event: \"Lass\"                         https://openagenda.com/kerlandrier/contribute/event/30309196\n"
     ]
    },
    {
     "name": "stdout",
     "output_type": "stream",
     "text": [
      "{'success': True, 'event': {'uid': 30309196, 'slug': 'lass-5285867', 'private': False, 'timezone': 'Europe/Paris', 'draft': False, 'updatedAt': '2025-08-04T11:51:56.000Z', 'createdAt': '2025-08-04T11:51:55.592Z', 'creatorUid': 28551670, 'ownerUid': 28551670, 'agendaUid': 44891982, 'fileKey': 'bea62552c5b741ba94fc95565c5b62f0', 'attendanceMode': 1, 'onlineAccessLink': None, 'locationUid': 37681236, 'image': None, 'imageCredits': None, 'title': {'fr': 'Lass'}, 'description': {'fr': 'Concert de Lass - Scène Armor'}, 'longDescription': {'fr': 'Concert de Lass - Scène Armor'}, 'keywords': {'0': ['filets bleus'], '1': ['concert']}, 'conditions': {}, 'age': {'min': None, 'max': None}, 'registration': [], 'accessibility': {'hi': False, 'ii': False, 'vi': False, 'mi': False, 'pi': False}, 'timings': [{'begin': '2025-08-13T19:00:00.000+02:00', 'end': '2025-08-13T20:30:00.000+02:00'}], 'status': 1, 'links': [], 'location': {'uid': 37681236, 'setUid': None, 'slug': 'quai-carnot-29900-concarneau-france_1139742', 'name': 'Quai Carnot', 'address': 'Quai Carnot, 29900 Concarneau, France', 'countryCode': 'FR', 'adminLevel1': 'Bretagne', 'adminLevel2': 'Finistère', 'adminLevel3': 'Concarneau Cornouaille Agglomération', 'adminLevel4': 'Concarneau', 'city': 'Concarneau', 'adminLevel5': None, 'district': None, 'postalCode': '29900', 'insee': '29039', 'latitude': 47.874684, 'longitude': -3.917302, 'region': 'Bretagne', 'department': 'Finistère', 'timezone': 'Europe/Paris', 'updatedAt': '2025-04-08T10:29:52.000Z', 'createdAt': '2025-04-08T09:48:07.000Z', 'image': None, 'description': {'fr': 'AVEN'}, 'tags': None, 'website': None, 'email': None, 'phone': None, 'links': [], 'access': {}, 'state': 1, 'imageCredits': None, 'extIds': None, 'duplicateCandidates': None, 'disqualifiedDuplicates': None, 'mergedIn': None, 'agendaUid': 44891982}, 'addMethod': 'contribution', 'uid-externe': 'manual_scrap-filets-bleus-lass', 'state': 2, 'featured': False, 'sourcePaths': [], 'aggregated': None, 'canEdit': True, 'motive': None, 'sourceAgendas': [], 'originAgenda': {'uid': 44891982, 'slug': 'kerlandrier', 'title': 'Kerlandrier', 'description': 'La culture c’est pas de la confiture.', 'image': 'https://cdn.openagenda.com/main/agenda44891982.jpg?__ts=1726842378021', 'url': 'https://kerlandrier.cc'}, 'member': {'userUid': 28551670, 'deletedUser': False, 'name': 'Jean Baptiste Bailly Gmail', 'phone': None, 'email': 'jean.baptiste.bailly@gmail.com', 'position': None, 'organization': None, 'role': 2, 'updatedAt': '2025-08-04T11:51:56.000Z'}}}\n",
      "{'uid-externe': 'manual_scrap-filets-bleus-sharon-shannon', 'title': {'fr': 'Sharon shannon'}, 'description': {'fr': 'Concert de Sharon shannon - Scène Armor'}, 'longDescription': 'Concert de Sharon shannon - Scène Armor', 'timings': [{'begin': '2025-08-13T20:45:00+02:00', 'end': '2025-08-13T22:15:00+02:00'}], 'lien': 'https://www.festivaldesfiletsbleus.bzh/artistes_2025.html#Sharon', 'locationUid': 37681236, 'keywords': ['filets bleus', 'concert']}\n",
      "{'fr': 'Sharon shannon'}\n"
     ]
    },
    {
     "name": "stderr",
     "output_type": "stream",
     "text": [
      "INFO:root:New event: \"Sharon shannon\"                         https://openagenda.com/kerlandrier/contribute/event/72813168\n"
     ]
    },
    {
     "name": "stdout",
     "output_type": "stream",
     "text": [
      "{'success': True, 'event': {'uid': 72813168, 'slug': 'sharon-shannon-4896953', 'private': False, 'timezone': 'Europe/Paris', 'draft': False, 'updatedAt': '2025-08-04T11:51:56.021Z', 'createdAt': '2025-08-04T11:51:56.021Z', 'creatorUid': 28551670, 'ownerUid': 28551670, 'agendaUid': 44891982, 'fileKey': 'b1b54ff710ce4f8bafffce6d16a180f5', 'attendanceMode': 1, 'onlineAccessLink': None, 'locationUid': 37681236, 'image': None, 'imageCredits': None, 'title': {'fr': 'Sharon shannon'}, 'description': {'fr': 'Concert de Sharon shannon - Scène Armor'}, 'longDescription': {'fr': 'Concert de Sharon shannon - Scène Armor'}, 'keywords': {'0': ['filets bleus'], '1': ['concert']}, 'conditions': {}, 'age': {'min': None, 'max': None}, 'registration': [], 'accessibility': {'hi': False, 'ii': False, 'vi': False, 'mi': False, 'pi': False}, 'timings': [{'begin': '2025-08-13T20:45:00.000+02:00', 'end': '2025-08-13T22:15:00.000+02:00'}], 'status': 1, 'links': [], 'location': {'uid': 37681236, 'setUid': None, 'slug': 'quai-carnot-29900-concarneau-france_1139742', 'name': 'Quai Carnot', 'address': 'Quai Carnot, 29900 Concarneau, France', 'countryCode': 'FR', 'adminLevel1': 'Bretagne', 'adminLevel2': 'Finistère', 'adminLevel3': 'Concarneau Cornouaille Agglomération', 'adminLevel4': 'Concarneau', 'city': 'Concarneau', 'adminLevel5': None, 'district': None, 'postalCode': '29900', 'insee': '29039', 'latitude': 47.874684, 'longitude': -3.917302, 'region': 'Bretagne', 'department': 'Finistère', 'timezone': 'Europe/Paris', 'updatedAt': '2025-04-08T10:29:52.000Z', 'createdAt': '2025-04-08T09:48:07.000Z', 'image': None, 'description': {'fr': 'AVEN'}, 'tags': None, 'website': None, 'email': None, 'phone': None, 'links': [], 'access': {}, 'state': 1, 'imageCredits': None, 'extIds': None, 'duplicateCandidates': None, 'disqualifiedDuplicates': None, 'mergedIn': None, 'agendaUid': 44891982}, 'addMethod': 'contribution', 'uid-externe': 'manual_scrap-filets-bleus-sharon-shannon', 'state': 2, 'featured': False, 'sourcePaths': [], 'aggregated': None, 'canEdit': True, 'motive': None, 'sourceAgendas': [], 'originAgenda': {'uid': 44891982, 'slug': 'kerlandrier', 'title': 'Kerlandrier', 'description': 'La culture c’est pas de la confiture.', 'image': 'https://cdn.openagenda.com/main/agenda44891982.jpg?__ts=1726842378021', 'url': 'https://kerlandrier.cc'}, 'member': {'userUid': 28551670, 'deletedUser': False, 'name': 'Jean Baptiste Bailly Gmail', 'phone': None, 'email': 'jean.baptiste.bailly@gmail.com', 'position': None, 'organization': None, 'role': 2, 'updatedAt': '2025-08-04T11:51:56.000Z'}}}\n",
      "{'uid-externe': 'manual_scrap-filets-bleus-sonerien-du', 'title': {'fr': 'Sonerien du'}, 'description': {'fr': 'Concert de Sonerien du - Scène Armor'}, 'longDescription': 'Concert de Sonerien du - Scène Armor', 'timings': [{'begin': '2025-08-13T22:30:00+02:00', 'end': '2025-08-13T23:50:00+02:00'}], 'lien': 'https://www.festivaldesfiletsbleus.bzh/artistes_2025.html#Sonerien', 'locationUid': 37681236, 'keywords': ['filets bleus', 'concert']}\n",
      "{'fr': 'Sonerien du'}\n"
     ]
    },
    {
     "name": "stderr",
     "output_type": "stream",
     "text": [
      "INFO:root:New event: \"Sonerien du\"                         https://openagenda.com/kerlandrier/contribute/event/27698426\n"
     ]
    },
    {
     "name": "stdout",
     "output_type": "stream",
     "text": [
      "{'success': True, 'event': {'uid': 27698426, 'slug': 'sonerien-du-1343980', 'private': False, 'timezone': 'Europe/Paris', 'draft': False, 'updatedAt': '2025-08-04T11:51:56.430Z', 'createdAt': '2025-08-04T11:51:56.430Z', 'creatorUid': 28551670, 'ownerUid': 28551670, 'agendaUid': 44891982, 'fileKey': '4a9d5b8a9093428385c30b990ab45df3', 'attendanceMode': 1, 'onlineAccessLink': None, 'locationUid': 37681236, 'image': None, 'imageCredits': None, 'title': {'fr': 'Sonerien du'}, 'description': {'fr': 'Concert de Sonerien du - Scène Armor'}, 'longDescription': {'fr': 'Concert de Sonerien du - Scène Armor'}, 'keywords': {'0': ['filets bleus'], '1': ['concert']}, 'conditions': {}, 'age': {'min': None, 'max': None}, 'registration': [], 'accessibility': {'hi': False, 'ii': False, 'vi': False, 'mi': False, 'pi': False}, 'timings': [{'begin': '2025-08-13T22:30:00.000+02:00', 'end': '2025-08-13T23:50:00.000+02:00'}], 'status': 1, 'links': [], 'location': {'uid': 37681236, 'setUid': None, 'slug': 'quai-carnot-29900-concarneau-france_1139742', 'name': 'Quai Carnot', 'address': 'Quai Carnot, 29900 Concarneau, France', 'countryCode': 'FR', 'adminLevel1': 'Bretagne', 'adminLevel2': 'Finistère', 'adminLevel3': 'Concarneau Cornouaille Agglomération', 'adminLevel4': 'Concarneau', 'city': 'Concarneau', 'adminLevel5': None, 'district': None, 'postalCode': '29900', 'insee': '29039', 'latitude': 47.874684, 'longitude': -3.917302, 'region': 'Bretagne', 'department': 'Finistère', 'timezone': 'Europe/Paris', 'updatedAt': '2025-04-08T10:29:52.000Z', 'createdAt': '2025-04-08T09:48:07.000Z', 'image': None, 'description': {'fr': 'AVEN'}, 'tags': None, 'website': None, 'email': None, 'phone': None, 'links': [], 'access': {}, 'state': 1, 'imageCredits': None, 'extIds': None, 'duplicateCandidates': None, 'disqualifiedDuplicates': None, 'mergedIn': None, 'agendaUid': 44891982}, 'addMethod': 'contribution', 'uid-externe': 'manual_scrap-filets-bleus-sonerien-du', 'state': 2, 'featured': False, 'sourcePaths': [], 'aggregated': None, 'canEdit': True, 'motive': None, 'sourceAgendas': [], 'originAgenda': {'uid': 44891982, 'slug': 'kerlandrier', 'title': 'Kerlandrier', 'description': 'La culture c’est pas de la confiture.', 'image': 'https://cdn.openagenda.com/main/agenda44891982.jpg?__ts=1726842378021', 'url': 'https://kerlandrier.cc'}, 'member': {'userUid': 28551670, 'deletedUser': False, 'name': 'Jean Baptiste Bailly Gmail', 'phone': None, 'email': 'jean.baptiste.bailly@gmail.com', 'position': None, 'organization': None, 'role': 2, 'updatedAt': '2025-08-04T11:51:57.000Z'}}}\n",
      "{'uid-externe': 'manual_scrap-filets-bleus-cercle-celtique-ar-rouedoa-glas', 'title': {'fr': 'Cercle celtique ar rouedoã\\x99 glas'}, 'description': {'fr': 'Concert de Cercle celtique ar rouedoã\\x99 glas - Scène Armor'}, 'longDescription': 'Concert de Cercle celtique ar rouedoã\\x99 glas - Scène Armor', 'timings': [{'begin': '2025-08-14T19:00:00+02:00', 'end': '2025-08-14T20:30:00+02:00'}], 'lien': 'https://www.festivaldesfiletsbleus.bzh/artistes_2025.html#Cercle', 'locationUid': 37681236, 'keywords': ['filets bleus', 'concert']}\n",
      "{'fr': 'Cercle celtique ar rouedoã\\x99 glas'}\n"
     ]
    },
    {
     "name": "stderr",
     "output_type": "stream",
     "text": [
      "INFO:root:New event: \"Cercle celtique ar rouedoã glas\"                         https://openagenda.com/kerlandrier/contribute/event/2088392\n"
     ]
    },
    {
     "name": "stdout",
     "output_type": "stream",
     "text": [
      "{'success': True, 'event': {'uid': 2088392, 'slug': 'cercle-celtique-ar-rouedoa-glas-5936006', 'private': False, 'timezone': 'Europe/Paris', 'draft': False, 'updatedAt': '2025-08-04T11:51:57.000Z', 'createdAt': '2025-08-04T11:51:56.960Z', 'creatorUid': 28551670, 'ownerUid': 28551670, 'agendaUid': 44891982, 'fileKey': '6f1ef93ee91246a68d0d511f7fde66b3', 'attendanceMode': 1, 'onlineAccessLink': None, 'locationUid': 37681236, 'image': None, 'imageCredits': None, 'title': {'fr': 'Cercle celtique ar rouedoã\\x99 glas'}, 'description': {'fr': 'Concert de Cercle celtique ar rouedoã\\x99 glas - Scène Armor'}, 'longDescription': {'fr': 'Concert de Cercle celtique ar rouedoã\\x99 glas - Scène Armor'}, 'keywords': {'0': ['filets bleus'], '1': ['concert']}, 'conditions': {}, 'age': {'min': None, 'max': None}, 'registration': [], 'accessibility': {'hi': False, 'ii': False, 'vi': False, 'mi': False, 'pi': False}, 'timings': [{'begin': '2025-08-14T19:00:00.000+02:00', 'end': '2025-08-14T20:30:00.000+02:00'}], 'status': 1, 'links': [], 'location': {'uid': 37681236, 'setUid': None, 'slug': 'quai-carnot-29900-concarneau-france_1139742', 'name': 'Quai Carnot', 'address': 'Quai Carnot, 29900 Concarneau, France', 'countryCode': 'FR', 'adminLevel1': 'Bretagne', 'adminLevel2': 'Finistère', 'adminLevel3': 'Concarneau Cornouaille Agglomération', 'adminLevel4': 'Concarneau', 'city': 'Concarneau', 'adminLevel5': None, 'district': None, 'postalCode': '29900', 'insee': '29039', 'latitude': 47.874684, 'longitude': -3.917302, 'region': 'Bretagne', 'department': 'Finistère', 'timezone': 'Europe/Paris', 'updatedAt': '2025-04-08T10:29:52.000Z', 'createdAt': '2025-04-08T09:48:07.000Z', 'image': None, 'description': {'fr': 'AVEN'}, 'tags': None, 'website': None, 'email': None, 'phone': None, 'links': [], 'access': {}, 'state': 1, 'imageCredits': None, 'extIds': None, 'duplicateCandidates': None, 'disqualifiedDuplicates': None, 'mergedIn': None, 'agendaUid': 44891982}, 'addMethod': 'contribution', 'uid-externe': 'manual_scrap-filets-bleus-cercle-celtique-ar-rouedoa-glas', 'state': 2, 'featured': False, 'sourcePaths': [], 'aggregated': None, 'canEdit': True, 'motive': None, 'sourceAgendas': [], 'originAgenda': {'uid': 44891982, 'slug': 'kerlandrier', 'title': 'Kerlandrier', 'description': 'La culture c’est pas de la confiture.', 'image': 'https://cdn.openagenda.com/main/agenda44891982.jpg?__ts=1726842378021', 'url': 'https://kerlandrier.cc'}, 'member': {'userUid': 28551670, 'deletedUser': False, 'name': 'Jean Baptiste Bailly Gmail', 'phone': None, 'email': 'jean.baptiste.bailly@gmail.com', 'position': None, 'organization': None, 'role': 2, 'updatedAt': '2025-08-04T11:51:57.000Z'}}}\n",
      "{'uid-externe': 'manual_scrap-filets-bleus-soldat-louis', 'title': {'fr': 'Soldat louis'}, 'description': {'fr': 'Concert de Soldat louis - Scène Armor'}, 'longDescription': 'Concert de Soldat louis - Scène Armor', 'timings': [{'begin': '2025-08-14T20:45:00+02:00', 'end': '2025-08-14T22:15:00+02:00'}], 'lien': 'https://www.festivaldesfiletsbleus.bzh/artistes_2025.html#Soldat', 'locationUid': 37681236, 'keywords': ['filets bleus', 'concert']}\n",
      "{'fr': 'Soldat louis'}\n"
     ]
    },
    {
     "name": "stderr",
     "output_type": "stream",
     "text": [
      "INFO:root:New event: \"Soldat louis\"                         https://openagenda.com/kerlandrier/contribute/event/30054172\n"
     ]
    },
    {
     "name": "stdout",
     "output_type": "stream",
     "text": [
      "{'success': True, 'event': {'uid': 30054172, 'slug': 'soldat-louis-1812599', 'private': False, 'timezone': 'Europe/Paris', 'draft': False, 'updatedAt': '2025-08-04T11:51:57.395Z', 'createdAt': '2025-08-04T11:51:57.395Z', 'creatorUid': 28551670, 'ownerUid': 28551670, 'agendaUid': 44891982, 'fileKey': '49aa1982e25e41de91a800ece23b4b58', 'attendanceMode': 1, 'onlineAccessLink': None, 'locationUid': 37681236, 'image': None, 'imageCredits': None, 'title': {'fr': 'Soldat louis'}, 'description': {'fr': 'Concert de Soldat louis - Scène Armor'}, 'longDescription': {'fr': 'Concert de Soldat louis - Scène Armor'}, 'keywords': {'0': ['filets bleus'], '1': ['concert']}, 'conditions': {}, 'age': {'min': None, 'max': None}, 'registration': [], 'accessibility': {'hi': False, 'ii': False, 'vi': False, 'mi': False, 'pi': False}, 'timings': [{'begin': '2025-08-14T20:45:00.000+02:00', 'end': '2025-08-14T22:15:00.000+02:00'}], 'status': 1, 'links': [], 'location': {'uid': 37681236, 'setUid': None, 'slug': 'quai-carnot-29900-concarneau-france_1139742', 'name': 'Quai Carnot', 'address': 'Quai Carnot, 29900 Concarneau, France', 'countryCode': 'FR', 'adminLevel1': 'Bretagne', 'adminLevel2': 'Finistère', 'adminLevel3': 'Concarneau Cornouaille Agglomération', 'adminLevel4': 'Concarneau', 'city': 'Concarneau', 'adminLevel5': None, 'district': None, 'postalCode': '29900', 'insee': '29039', 'latitude': 47.874684, 'longitude': -3.917302, 'region': 'Bretagne', 'department': 'Finistère', 'timezone': 'Europe/Paris', 'updatedAt': '2025-04-08T10:29:52.000Z', 'createdAt': '2025-04-08T09:48:07.000Z', 'image': None, 'description': {'fr': 'AVEN'}, 'tags': None, 'website': None, 'email': None, 'phone': None, 'links': [], 'access': {}, 'state': 1, 'imageCredits': None, 'extIds': None, 'duplicateCandidates': None, 'disqualifiedDuplicates': None, 'mergedIn': None, 'agendaUid': 44891982}, 'addMethod': 'contribution', 'uid-externe': 'manual_scrap-filets-bleus-soldat-louis', 'state': 2, 'featured': False, 'sourcePaths': [], 'aggregated': None, 'canEdit': True, 'motive': None, 'sourceAgendas': [], 'originAgenda': {'uid': 44891982, 'slug': 'kerlandrier', 'title': 'Kerlandrier', 'description': 'La culture c’est pas de la confiture.', 'image': 'https://cdn.openagenda.com/main/agenda44891982.jpg?__ts=1726842378021', 'url': 'https://kerlandrier.cc'}, 'member': {'userUid': 28551670, 'deletedUser': False, 'name': 'Jean Baptiste Bailly Gmail', 'phone': None, 'email': 'jean.baptiste.bailly@gmail.com', 'position': None, 'organization': None, 'role': 2, 'updatedAt': '2025-08-04T11:51:58.000Z'}}}\n",
      "{'uid-externe': 'manual_scrap-filets-bleus-o-tridal', 'title': {'fr': \"O'tridal\"}, 'description': {'fr': \"Concert de O'tridal - Scène Armor\"}, 'longDescription': \"Concert de O'tridal - Scène Armor\", 'timings': [{'begin': '2025-08-14T22:30:00+02:00', 'end': '2025-08-14T23:50:00+02:00'}], 'lien': 'https://www.festivaldesfiletsbleus.bzh/artistes_2025.html#OTridal', 'locationUid': 37681236, 'keywords': ['filets bleus', 'concert']}\n",
      "{'fr': \"O'tridal\"}\n"
     ]
    },
    {
     "name": "stderr",
     "output_type": "stream",
     "text": [
      "INFO:root:New event: \"O'tridal\"                         https://openagenda.com/kerlandrier/contribute/event/54595614\n"
     ]
    },
    {
     "name": "stdout",
     "output_type": "stream",
     "text": [
      "{'success': True, 'event': {'uid': 54595614, 'slug': 'otridal-9569667', 'private': False, 'timezone': 'Europe/Paris', 'draft': False, 'updatedAt': '2025-08-04T11:51:58.000Z', 'createdAt': '2025-08-04T11:51:57.775Z', 'creatorUid': 28551670, 'ownerUid': 28551670, 'agendaUid': 44891982, 'fileKey': 'ec8a1a3021f74a4dae9c69f4211677de', 'attendanceMode': 1, 'onlineAccessLink': None, 'locationUid': 37681236, 'image': None, 'imageCredits': None, 'title': {'fr': \"O'tridal\"}, 'description': {'fr': \"Concert de O'tridal - Scène Armor\"}, 'longDescription': {'fr': \"Concert de O'tridal - Scène Armor\"}, 'keywords': {'0': ['filets bleus'], '1': ['concert']}, 'conditions': {}, 'age': {'min': None, 'max': None}, 'registration': [], 'accessibility': {'hi': False, 'ii': False, 'vi': False, 'mi': False, 'pi': False}, 'timings': [{'begin': '2025-08-14T22:30:00.000+02:00', 'end': '2025-08-14T23:50:00.000+02:00'}], 'status': 1, 'links': [], 'location': {'uid': 37681236, 'setUid': None, 'slug': 'quai-carnot-29900-concarneau-france_1139742', 'name': 'Quai Carnot', 'address': 'Quai Carnot, 29900 Concarneau, France', 'countryCode': 'FR', 'adminLevel1': 'Bretagne', 'adminLevel2': 'Finistère', 'adminLevel3': 'Concarneau Cornouaille Agglomération', 'adminLevel4': 'Concarneau', 'city': 'Concarneau', 'adminLevel5': None, 'district': None, 'postalCode': '29900', 'insee': '29039', 'latitude': 47.874684, 'longitude': -3.917302, 'region': 'Bretagne', 'department': 'Finistère', 'timezone': 'Europe/Paris', 'updatedAt': '2025-04-08T10:29:52.000Z', 'createdAt': '2025-04-08T09:48:07.000Z', 'image': None, 'description': {'fr': 'AVEN'}, 'tags': None, 'website': None, 'email': None, 'phone': None, 'links': [], 'access': {}, 'state': 1, 'imageCredits': None, 'extIds': None, 'duplicateCandidates': None, 'disqualifiedDuplicates': None, 'mergedIn': None, 'agendaUid': 44891982}, 'addMethod': 'contribution', 'uid-externe': 'manual_scrap-filets-bleus-o-tridal', 'state': 2, 'featured': False, 'sourcePaths': [], 'aggregated': None, 'canEdit': True, 'motive': None, 'sourceAgendas': [], 'originAgenda': {'uid': 44891982, 'slug': 'kerlandrier', 'title': 'Kerlandrier', 'description': 'La culture c’est pas de la confiture.', 'image': 'https://cdn.openagenda.com/main/agenda44891982.jpg?__ts=1726842378021', 'url': 'https://kerlandrier.cc'}, 'member': {'userUid': 28551670, 'deletedUser': False, 'name': 'Jean Baptiste Bailly Gmail', 'phone': None, 'email': 'jean.baptiste.bailly@gmail.com', 'position': None, 'organization': None, 'role': 2, 'updatedAt': '2025-08-04T11:51:58.000Z'}}}\n",
      "{'uid-externe': 'manual_scrap-filets-bleus-batterie-fanfare-echo-du-mont-blanc', 'title': {'fr': 'Batterie fanfare echo du mont blanc'}, 'description': {'fr': 'Concert de Batterie fanfare echo du mont blanc - Scène Armor'}, 'longDescription': 'Concert de Batterie fanfare echo du mont blanc - Scène Armor', 'timings': [{'begin': '2025-08-15T19:00:00+02:00', 'end': '2025-08-15T20:30:00+02:00'}], 'lien': 'https://www.festivaldesfiletsbleus.bzh/artistes_2025.html#Fanfare', 'locationUid': 37681236, 'keywords': ['filets bleus', 'concert']}\n",
      "{'fr': 'Batterie fanfare echo du mont blanc'}\n"
     ]
    },
    {
     "name": "stderr",
     "output_type": "stream",
     "text": [
      "INFO:root:New event: \"Batterie fanfare echo du mont blanc\"                         https://openagenda.com/kerlandrier/contribute/event/23753861\n"
     ]
    },
    {
     "name": "stdout",
     "output_type": "stream",
     "text": [
      "{'success': True, 'event': {'uid': 23753861, 'slug': 'batterie-fanfare-echo-du-mont-blanc-7367794', 'private': False, 'timezone': 'Europe/Paris', 'draft': False, 'updatedAt': '2025-08-04T11:51:58.316Z', 'createdAt': '2025-08-04T11:51:58.316Z', 'creatorUid': 28551670, 'ownerUid': 28551670, 'agendaUid': 44891982, 'fileKey': '7f4586f90d3c450e947a8ccd07ccff50', 'attendanceMode': 1, 'onlineAccessLink': None, 'locationUid': 37681236, 'image': None, 'imageCredits': None, 'title': {'fr': 'Batterie fanfare echo du mont blanc'}, 'description': {'fr': 'Concert de Batterie fanfare echo du mont blanc - Scène Armor'}, 'longDescription': {'fr': 'Concert de Batterie fanfare echo du mont blanc - Scène Armor'}, 'keywords': {'0': ['filets bleus'], '1': ['concert']}, 'conditions': {}, 'age': {'min': None, 'max': None}, 'registration': [], 'accessibility': {'hi': False, 'ii': False, 'vi': False, 'mi': False, 'pi': False}, 'timings': [{'begin': '2025-08-15T19:00:00.000+02:00', 'end': '2025-08-15T20:30:00.000+02:00'}], 'status': 1, 'links': [], 'location': {'uid': 37681236, 'setUid': None, 'slug': 'quai-carnot-29900-concarneau-france_1139742', 'name': 'Quai Carnot', 'address': 'Quai Carnot, 29900 Concarneau, France', 'countryCode': 'FR', 'adminLevel1': 'Bretagne', 'adminLevel2': 'Finistère', 'adminLevel3': 'Concarneau Cornouaille Agglomération', 'adminLevel4': 'Concarneau', 'city': 'Concarneau', 'adminLevel5': None, 'district': None, 'postalCode': '29900', 'insee': '29039', 'latitude': 47.874684, 'longitude': -3.917302, 'region': 'Bretagne', 'department': 'Finistère', 'timezone': 'Europe/Paris', 'updatedAt': '2025-04-08T10:29:52.000Z', 'createdAt': '2025-04-08T09:48:07.000Z', 'image': None, 'description': {'fr': 'AVEN'}, 'tags': None, 'website': None, 'email': None, 'phone': None, 'links': [], 'access': {}, 'state': 1, 'imageCredits': None, 'extIds': None, 'duplicateCandidates': None, 'disqualifiedDuplicates': None, 'mergedIn': None, 'agendaUid': 44891982}, 'addMethod': 'contribution', 'uid-externe': 'manual_scrap-filets-bleus-batterie-fanfare-echo-du-mont-blanc', 'state': 2, 'featured': False, 'sourcePaths': [], 'aggregated': None, 'canEdit': True, 'motive': None, 'sourceAgendas': [], 'originAgenda': {'uid': 44891982, 'slug': 'kerlandrier', 'title': 'Kerlandrier', 'description': 'La culture c’est pas de la confiture.', 'image': 'https://cdn.openagenda.com/main/agenda44891982.jpg?__ts=1726842378021', 'url': 'https://kerlandrier.cc'}, 'member': {'userUid': 28551670, 'deletedUser': False, 'name': 'Jean Baptiste Bailly Gmail', 'phone': None, 'email': 'jean.baptiste.bailly@gmail.com', 'position': None, 'organization': None, 'role': 2, 'updatedAt': '2025-08-04T11:51:58.000Z'}}}\n",
      "{'uid-externe': 'manual_scrap-filets-bleus-boulevard-des-airs', 'title': {'fr': 'Boulevard des airs'}, 'description': {'fr': 'Concert de Boulevard des airs - Scène Armor'}, 'longDescription': 'Concert de Boulevard des airs - Scène Armor', 'timings': [{'begin': '2025-08-15T20:45:00+02:00', 'end': '2025-08-15T22:15:00+02:00'}], 'lien': 'https://www.festivaldesfiletsbleus.bzh/artistes_2025.html#Boulevard', 'locationUid': 37681236, 'keywords': ['filets bleus', 'concert']}\n",
      "{'fr': 'Boulevard des airs'}\n"
     ]
    },
    {
     "name": "stderr",
     "output_type": "stream",
     "text": [
      "INFO:root:New event: \"Boulevard des airs\"                         https://openagenda.com/kerlandrier/contribute/event/18385457\n"
     ]
    },
    {
     "name": "stdout",
     "output_type": "stream",
     "text": [
      "{'success': True, 'event': {'uid': 18385457, 'slug': 'boulevard-des-airs-2639522', 'private': False, 'timezone': 'Europe/Paris', 'draft': False, 'updatedAt': '2025-08-04T11:51:59.000Z', 'createdAt': '2025-08-04T11:51:58.769Z', 'creatorUid': 28551670, 'ownerUid': 28551670, 'agendaUid': 44891982, 'fileKey': 'ecc1ce0c7f3a4fc1a77cd0f1511b00af', 'attendanceMode': 1, 'onlineAccessLink': None, 'locationUid': 37681236, 'image': None, 'imageCredits': None, 'title': {'fr': 'Boulevard des airs'}, 'description': {'fr': 'Concert de Boulevard des airs - Scène Armor'}, 'longDescription': {'fr': 'Concert de Boulevard des airs - Scène Armor'}, 'keywords': {'0': ['filets bleus'], '1': ['concert']}, 'conditions': {}, 'age': {'min': None, 'max': None}, 'registration': [], 'accessibility': {'hi': False, 'ii': False, 'vi': False, 'mi': False, 'pi': False}, 'timings': [{'begin': '2025-08-15T20:45:00.000+02:00', 'end': '2025-08-15T22:15:00.000+02:00'}], 'status': 1, 'links': [], 'location': {'uid': 37681236, 'setUid': None, 'slug': 'quai-carnot-29900-concarneau-france_1139742', 'name': 'Quai Carnot', 'address': 'Quai Carnot, 29900 Concarneau, France', 'countryCode': 'FR', 'adminLevel1': 'Bretagne', 'adminLevel2': 'Finistère', 'adminLevel3': 'Concarneau Cornouaille Agglomération', 'adminLevel4': 'Concarneau', 'city': 'Concarneau', 'adminLevel5': None, 'district': None, 'postalCode': '29900', 'insee': '29039', 'latitude': 47.874684, 'longitude': -3.917302, 'region': 'Bretagne', 'department': 'Finistère', 'timezone': 'Europe/Paris', 'updatedAt': '2025-04-08T10:29:52.000Z', 'createdAt': '2025-04-08T09:48:07.000Z', 'image': None, 'description': {'fr': 'AVEN'}, 'tags': None, 'website': None, 'email': None, 'phone': None, 'links': [], 'access': {}, 'state': 1, 'imageCredits': None, 'extIds': None, 'duplicateCandidates': None, 'disqualifiedDuplicates': None, 'mergedIn': None, 'agendaUid': 44891982}, 'addMethod': 'contribution', 'uid-externe': 'manual_scrap-filets-bleus-boulevard-des-airs', 'state': 2, 'featured': False, 'sourcePaths': [], 'aggregated': None, 'canEdit': True, 'motive': None, 'sourceAgendas': [], 'originAgenda': {'uid': 44891982, 'slug': 'kerlandrier', 'title': 'Kerlandrier', 'description': 'La culture c’est pas de la confiture.', 'image': 'https://cdn.openagenda.com/main/agenda44891982.jpg?__ts=1726842378021', 'url': 'https://kerlandrier.cc'}, 'member': {'userUid': 28551670, 'deletedUser': False, 'name': 'Jean Baptiste Bailly Gmail', 'phone': None, 'email': 'jean.baptiste.bailly@gmail.com', 'position': None, 'organization': None, 'role': 2, 'updatedAt': '2025-08-04T11:51:59.000Z'}}}\n",
      "{'uid-externe': 'manual_scrap-filets-bleus-ampouailh', 'title': {'fr': 'Ampouailh'}, 'description': {'fr': 'Concert de Ampouailh - Scène Armor'}, 'longDescription': 'Concert de Ampouailh - Scène Armor', 'timings': [{'begin': '2025-08-15T22:30:00+02:00', 'end': '2025-08-15T23:50:00+02:00'}], 'lien': 'https://www.festivaldesfiletsbleus.bzh/artistes_2025.html#Ampouailh', 'locationUid': 37681236, 'keywords': ['filets bleus', 'concert']}\n",
      "{'fr': 'Ampouailh'}\n"
     ]
    },
    {
     "name": "stderr",
     "output_type": "stream",
     "text": [
      "INFO:root:New event: \"Ampouailh\"                         https://openagenda.com/kerlandrier/contribute/event/90162237\n"
     ]
    },
    {
     "name": "stdout",
     "output_type": "stream",
     "text": [
      "{'success': True, 'event': {'uid': 90162237, 'slug': 'ampouailh-3361838', 'private': False, 'timezone': 'Europe/Paris', 'draft': False, 'updatedAt': '2025-08-04T11:51:59.343Z', 'createdAt': '2025-08-04T11:51:59.343Z', 'creatorUid': 28551670, 'ownerUid': 28551670, 'agendaUid': 44891982, 'fileKey': 'd0327899901445a7b21e5e8b3b972417', 'attendanceMode': 1, 'onlineAccessLink': None, 'locationUid': 37681236, 'image': None, 'imageCredits': None, 'title': {'fr': 'Ampouailh'}, 'description': {'fr': 'Concert de Ampouailh - Scène Armor'}, 'longDescription': {'fr': 'Concert de Ampouailh - Scène Armor'}, 'keywords': {'0': ['filets bleus'], '1': ['concert']}, 'conditions': {}, 'age': {'min': None, 'max': None}, 'registration': [], 'accessibility': {'hi': False, 'ii': False, 'vi': False, 'mi': False, 'pi': False}, 'timings': [{'begin': '2025-08-15T22:30:00.000+02:00', 'end': '2025-08-15T23:50:00.000+02:00'}], 'status': 1, 'links': [], 'location': {'uid': 37681236, 'setUid': None, 'slug': 'quai-carnot-29900-concarneau-france_1139742', 'name': 'Quai Carnot', 'address': 'Quai Carnot, 29900 Concarneau, France', 'countryCode': 'FR', 'adminLevel1': 'Bretagne', 'adminLevel2': 'Finistère', 'adminLevel3': 'Concarneau Cornouaille Agglomération', 'adminLevel4': 'Concarneau', 'city': 'Concarneau', 'adminLevel5': None, 'district': None, 'postalCode': '29900', 'insee': '29039', 'latitude': 47.874684, 'longitude': -3.917302, 'region': 'Bretagne', 'department': 'Finistère', 'timezone': 'Europe/Paris', 'updatedAt': '2025-04-08T10:29:52.000Z', 'createdAt': '2025-04-08T09:48:07.000Z', 'image': None, 'description': {'fr': 'AVEN'}, 'tags': None, 'website': None, 'email': None, 'phone': None, 'links': [], 'access': {}, 'state': 1, 'imageCredits': None, 'extIds': None, 'duplicateCandidates': None, 'disqualifiedDuplicates': None, 'mergedIn': None, 'agendaUid': 44891982}, 'addMethod': 'contribution', 'uid-externe': 'manual_scrap-filets-bleus-ampouailh', 'state': 2, 'featured': False, 'sourcePaths': [], 'aggregated': None, 'canEdit': True, 'motive': None, 'sourceAgendas': [], 'originAgenda': {'uid': 44891982, 'slug': 'kerlandrier', 'title': 'Kerlandrier', 'description': 'La culture c’est pas de la confiture.', 'image': 'https://cdn.openagenda.com/main/agenda44891982.jpg?__ts=1726842378021', 'url': 'https://kerlandrier.cc'}, 'member': {'userUid': 28551670, 'deletedUser': False, 'name': 'Jean Baptiste Bailly Gmail', 'phone': None, 'email': 'jean.baptiste.bailly@gmail.com', 'position': None, 'organization': None, 'role': 2, 'updatedAt': '2025-08-04T11:51:59.000Z'}}}\n"
     ]
    }
   ],
   "source": [
    "# POST the events to OA API\n",
    "for event in concertsD:\n",
    "    print(event)\n",
    "    print (event.get(\"title\"))\n",
    "    response = HttpRequests.create_event(access_token,\n",
    "                                        event,\n",
    "    )\n",
    "    print(response)"
   ]
  },
  {
   "cell_type": "code",
   "execution_count": null,
   "id": "5e45de33",
   "metadata": {},
   "outputs": [
    {
     "name": "stdout",
     "output_type": "stream",
     "text": [
      "manual_scrap-filets-bleus-lass\n",
      "30309196\n"
     ]
    },
    {
     "name": "stderr",
     "output_type": "stream",
     "text": [
      "INFO:root:{'success': True, 'event': {'uid': 30309196, 'slug': 'lass-5285867', 'private': 0, 'timezone': 'Europe/Paris', 'draft': 0, 'updatedAt': '2025-08-04T13:06:15.000Z', 'createdAt': '2025-08-04T11:51:56.000Z', 'creatorUid': 28551670, 'ownerUid': 28551670, 'agendaUid': 44891982, 'fileKey': 'bea62552c5b741ba94fc95565c5b62f0', 'attendanceMode': 3, 'onlineAccessLink': 'https://www.festivaldesfiletsbleus.bzh/artistes_2025.html#Lass', 'locationUid': 37681236, 'image': None, 'imageCredits': None, 'title': {'fr': 'Lass'}, 'description': {'fr': 'Concert de Lass - Scène Armor'}, 'longDescription': {'fr': 'Concert de Lass - Scène Armor', 'en': 'Concert de Lass - Scène Armor'}, 'keywords': {'0': ['filets bleus'], '1': ['concert']}, 'conditions': {}, 'age': {'min': None, 'max': None}, 'registration': [], 'accessibility': {'hi': False, 'ii': False, 'vi': False, 'mi': False, 'pi': False}, 'timings': [{'begin': '2025-08-13T19:00:00.000+02:00', 'end': '2025-08-13T20:30:00.000+02:00'}], 'extIds': None, 'status': 1, 'links': [], 'location': {'uid': 37681236, 'setUid': None, 'slug': 'quai-carnot-29900-concarneau-france_1139742', 'name': 'Quai Carnot', 'address': 'Quai Carnot, 29900 Concarneau, France', 'countryCode': 'FR', 'adminLevel1': 'Bretagne', 'adminLevel2': 'Finistère', 'adminLevel3': 'Concarneau Cornouaille Agglomération', 'adminLevel4': 'Concarneau', 'city': 'Concarneau', 'adminLevel5': None, 'district': None, 'postalCode': '29900', 'insee': '29039', 'latitude': 47.874684, 'longitude': -3.917302, 'region': 'Bretagne', 'department': 'Finistère', 'timezone': 'Europe/Paris', 'updatedAt': '2025-04-08T10:29:52.000Z', 'createdAt': '2025-04-08T09:48:07.000Z', 'image': None, 'description': {'fr': 'AVEN'}, 'tags': None, 'website': None, 'email': None, 'phone': None, 'links': [], 'access': {}, 'state': 1, 'imageCredits': None, 'extIds': None, 'duplicateCandidates': None, 'disqualifiedDuplicates': None, 'mergedIn': None, 'agendaUid': 44891982}, 'addMethod': 'contribution', 'uid-externe': 'manual_scrap-filets-bleus-lass', 'state': 2, 'featured': False, 'sourcePaths': [], 'aggregated': None, 'canEdit': True, 'motive': None, 'sourceAgendas': [], 'originAgenda': {'uid': 44891982, 'slug': 'kerlandrier', 'title': 'Kerlandrier', 'description': 'La culture c’est pas de la confiture.', 'image': 'https://cdn.openagenda.com/main/agenda44891982.jpg?__ts=1726842378021', 'url': 'https://kerlandrier.cc'}, 'member': {'userUid': 28551670, 'deletedUser': False, 'name': 'Jean Baptiste Bailly Gmail', 'phone': None, 'email': 'jean.baptiste.bailly@gmail.com', 'position': None, 'organization': None, 'role': 2, 'updatedAt': '2025-08-04T11:51:59.000Z'}}}\n"
     ]
    },
    {
     "name": "stdout",
     "output_type": "stream",
     "text": [
      "--------\n",
      "manual_scrap-filets-bleus-sharon-shannon\n",
      "72813168\n"
     ]
    },
    {
     "name": "stderr",
     "output_type": "stream",
     "text": [
      "INFO:root:{'success': True, 'event': {'uid': 72813168, 'slug': 'sharon-shannon-4896953', 'private': 0, 'timezone': 'Europe/Paris', 'draft': 0, 'updatedAt': '2025-08-04T13:06:16.000Z', 'createdAt': '2025-08-04T11:51:56.000Z', 'creatorUid': 28551670, 'ownerUid': 28551670, 'agendaUid': 44891982, 'fileKey': 'b1b54ff710ce4f8bafffce6d16a180f5', 'attendanceMode': 3, 'onlineAccessLink': 'https://www.festivaldesfiletsbleus.bzh/artistes_2025.html#Sharon', 'locationUid': 37681236, 'image': None, 'imageCredits': None, 'title': {'fr': 'Sharon shannon'}, 'description': {'fr': 'Concert de Sharon shannon - Scène Armor'}, 'longDescription': {'fr': 'Concert de Sharon shannon - Scène Armor', 'en': 'Concert de Sharon shannon - Scène Armor'}, 'keywords': {'0': ['filets bleus'], '1': ['concert']}, 'conditions': {}, 'age': {'min': None, 'max': None}, 'registration': [], 'accessibility': {'hi': False, 'ii': False, 'vi': False, 'mi': False, 'pi': False}, 'timings': [{'begin': '2025-08-13T20:45:00.000+02:00', 'end': '2025-08-13T22:15:00.000+02:00'}], 'extIds': None, 'status': 1, 'links': [], 'location': {'uid': 37681236, 'setUid': None, 'slug': 'quai-carnot-29900-concarneau-france_1139742', 'name': 'Quai Carnot', 'address': 'Quai Carnot, 29900 Concarneau, France', 'countryCode': 'FR', 'adminLevel1': 'Bretagne', 'adminLevel2': 'Finistère', 'adminLevel3': 'Concarneau Cornouaille Agglomération', 'adminLevel4': 'Concarneau', 'city': 'Concarneau', 'adminLevel5': None, 'district': None, 'postalCode': '29900', 'insee': '29039', 'latitude': 47.874684, 'longitude': -3.917302, 'region': 'Bretagne', 'department': 'Finistère', 'timezone': 'Europe/Paris', 'updatedAt': '2025-04-08T10:29:52.000Z', 'createdAt': '2025-04-08T09:48:07.000Z', 'image': None, 'description': {'fr': 'AVEN'}, 'tags': None, 'website': None, 'email': None, 'phone': None, 'links': [], 'access': {}, 'state': 1, 'imageCredits': None, 'extIds': None, 'duplicateCandidates': None, 'disqualifiedDuplicates': None, 'mergedIn': None, 'agendaUid': 44891982}, 'addMethod': 'contribution', 'uid-externe': 'manual_scrap-filets-bleus-sharon-shannon', 'state': 2, 'featured': False, 'sourcePaths': [], 'aggregated': None, 'canEdit': True, 'motive': None, 'sourceAgendas': [], 'originAgenda': {'uid': 44891982, 'slug': 'kerlandrier', 'title': 'Kerlandrier', 'description': 'La culture c’est pas de la confiture.', 'image': 'https://cdn.openagenda.com/main/agenda44891982.jpg?__ts=1726842378021', 'url': 'https://kerlandrier.cc'}, 'member': {'userUid': 28551670, 'deletedUser': False, 'name': 'Jean Baptiste Bailly Gmail', 'phone': None, 'email': 'jean.baptiste.bailly@gmail.com', 'position': None, 'organization': None, 'role': 2, 'updatedAt': '2025-08-04T11:51:59.000Z'}}}\n"
     ]
    },
    {
     "name": "stdout",
     "output_type": "stream",
     "text": [
      "--------\n",
      "manual_scrap-filets-bleus-sonerien-du\n",
      "27698426\n"
     ]
    },
    {
     "name": "stderr",
     "output_type": "stream",
     "text": [
      "INFO:root:{'success': True, 'event': {'uid': 27698426, 'slug': 'sonerien-du-1343980', 'private': 0, 'timezone': 'Europe/Paris', 'draft': 0, 'updatedAt': '2025-08-04T13:06:17.064Z', 'createdAt': '2025-08-04T11:51:56.000Z', 'creatorUid': 28551670, 'ownerUid': 28551670, 'agendaUid': 44891982, 'fileKey': '4a9d5b8a9093428385c30b990ab45df3', 'attendanceMode': 3, 'onlineAccessLink': 'https://www.festivaldesfiletsbleus.bzh/artistes_2025.html#Sonerien', 'locationUid': 37681236, 'image': None, 'imageCredits': None, 'title': {'fr': 'Sonerien du'}, 'description': {'fr': 'Concert de Sonerien du - Scène Armor'}, 'longDescription': {'fr': 'Concert de Sonerien du - Scène Armor', 'en': 'Concert de Sonerien du - Scène Armor'}, 'keywords': {'0': ['filets bleus'], '1': ['concert']}, 'conditions': {}, 'age': {'min': None, 'max': None}, 'registration': [], 'accessibility': {'hi': False, 'ii': False, 'vi': False, 'mi': False, 'pi': False}, 'timings': [{'begin': '2025-08-13T22:30:00.000+02:00', 'end': '2025-08-13T23:50:00.000+02:00'}], 'extIds': None, 'status': 1, 'links': [], 'location': {'uid': 37681236, 'setUid': None, 'slug': 'quai-carnot-29900-concarneau-france_1139742', 'name': 'Quai Carnot', 'address': 'Quai Carnot, 29900 Concarneau, France', 'countryCode': 'FR', 'adminLevel1': 'Bretagne', 'adminLevel2': 'Finistère', 'adminLevel3': 'Concarneau Cornouaille Agglomération', 'adminLevel4': 'Concarneau', 'city': 'Concarneau', 'adminLevel5': None, 'district': None, 'postalCode': '29900', 'insee': '29039', 'latitude': 47.874684, 'longitude': -3.917302, 'region': 'Bretagne', 'department': 'Finistère', 'timezone': 'Europe/Paris', 'updatedAt': '2025-04-08T10:29:52.000Z', 'createdAt': '2025-04-08T09:48:07.000Z', 'image': None, 'description': {'fr': 'AVEN'}, 'tags': None, 'website': None, 'email': None, 'phone': None, 'links': [], 'access': {}, 'state': 1, 'imageCredits': None, 'extIds': None, 'duplicateCandidates': None, 'disqualifiedDuplicates': None, 'mergedIn': None, 'agendaUid': 44891982}, 'addMethod': 'contribution', 'uid-externe': 'manual_scrap-filets-bleus-sonerien-du', 'state': 2, 'featured': False, 'sourcePaths': [], 'aggregated': None, 'canEdit': True, 'motive': None, 'sourceAgendas': [], 'originAgenda': {'uid': 44891982, 'slug': 'kerlandrier', 'title': 'Kerlandrier', 'description': 'La culture c’est pas de la confiture.', 'image': 'https://cdn.openagenda.com/main/agenda44891982.jpg?__ts=1726842378021', 'url': 'https://kerlandrier.cc'}, 'member': {'userUid': 28551670, 'deletedUser': False, 'name': 'Jean Baptiste Bailly Gmail', 'phone': None, 'email': 'jean.baptiste.bailly@gmail.com', 'position': None, 'organization': None, 'role': 2, 'updatedAt': '2025-08-04T11:51:59.000Z'}}}\n"
     ]
    },
    {
     "name": "stdout",
     "output_type": "stream",
     "text": [
      "--------\n",
      "manual_scrap-filets-bleus-cercle-celtique-ar-rouedoa-glas\n",
      "2088392\n"
     ]
    },
    {
     "name": "stderr",
     "output_type": "stream",
     "text": [
      "INFO:root:{'success': True, 'event': {'uid': 2088392, 'slug': 'cercle-celtique-ar-rouedoa-glas-5936006', 'private': 0, 'timezone': 'Europe/Paris', 'draft': 0, 'updatedAt': '2025-08-04T13:06:18.163Z', 'createdAt': '2025-08-04T11:51:57.000Z', 'creatorUid': 28551670, 'ownerUid': 28551670, 'agendaUid': 44891982, 'fileKey': '6f1ef93ee91246a68d0d511f7fde66b3', 'attendanceMode': 3, 'onlineAccessLink': 'https://www.festivaldesfiletsbleus.bzh/artistes_2025.html#Cercle', 'locationUid': 37681236, 'image': None, 'imageCredits': None, 'title': {'fr': 'Cercle celtique ar rouedoã\\x99 glas'}, 'description': {'fr': 'Concert de Cercle celtique ar rouedoã\\x99 glas - Scène Armor'}, 'longDescription': {'fr': 'Concert de Cercle celtique ar rouedoã\\x99 glas - Scène Armor', 'en': 'Concert de Cercle celtique ar rouedoã\\x99 glas - Scène Armor'}, 'keywords': {'0': ['filets bleus'], '1': ['concert']}, 'conditions': {}, 'age': {'min': None, 'max': None}, 'registration': [], 'accessibility': {'hi': False, 'ii': False, 'vi': False, 'mi': False, 'pi': False}, 'timings': [{'begin': '2025-08-14T19:00:00.000+02:00', 'end': '2025-08-14T20:30:00.000+02:00'}], 'extIds': None, 'status': 1, 'links': [], 'location': {'uid': 37681236, 'setUid': None, 'slug': 'quai-carnot-29900-concarneau-france_1139742', 'name': 'Quai Carnot', 'address': 'Quai Carnot, 29900 Concarneau, France', 'countryCode': 'FR', 'adminLevel1': 'Bretagne', 'adminLevel2': 'Finistère', 'adminLevel3': 'Concarneau Cornouaille Agglomération', 'adminLevel4': 'Concarneau', 'city': 'Concarneau', 'adminLevel5': None, 'district': None, 'postalCode': '29900', 'insee': '29039', 'latitude': 47.874684, 'longitude': -3.917302, 'region': 'Bretagne', 'department': 'Finistère', 'timezone': 'Europe/Paris', 'updatedAt': '2025-04-08T10:29:52.000Z', 'createdAt': '2025-04-08T09:48:07.000Z', 'image': None, 'description': {'fr': 'AVEN'}, 'tags': None, 'website': None, 'email': None, 'phone': None, 'links': [], 'access': {}, 'state': 1, 'imageCredits': None, 'extIds': None, 'duplicateCandidates': None, 'disqualifiedDuplicates': None, 'mergedIn': None, 'agendaUid': 44891982}, 'addMethod': 'contribution', 'uid-externe': 'manual_scrap-filets-bleus-cercle-celtique-ar-rouedoa-glas', 'state': 2, 'featured': False, 'sourcePaths': [], 'aggregated': None, 'canEdit': True, 'motive': None, 'sourceAgendas': [], 'originAgenda': {'uid': 44891982, 'slug': 'kerlandrier', 'title': 'Kerlandrier', 'description': 'La culture c’est pas de la confiture.', 'image': 'https://cdn.openagenda.com/main/agenda44891982.jpg?__ts=1726842378021', 'url': 'https://kerlandrier.cc'}, 'member': {'userUid': 28551670, 'deletedUser': False, 'name': 'Jean Baptiste Bailly Gmail', 'phone': None, 'email': 'jean.baptiste.bailly@gmail.com', 'position': None, 'organization': None, 'role': 2, 'updatedAt': '2025-08-04T11:51:59.000Z'}}}\n"
     ]
    },
    {
     "name": "stdout",
     "output_type": "stream",
     "text": [
      "--------\n",
      "manual_scrap-filets-bleus-soldat-louis\n",
      "30054172\n"
     ]
    },
    {
     "name": "stderr",
     "output_type": "stream",
     "text": [
      "INFO:root:{'success': True, 'event': {'uid': 30054172, 'slug': 'soldat-louis-1812599', 'private': 0, 'timezone': 'Europe/Paris', 'draft': 0, 'updatedAt': '2025-08-04T13:06:19.443Z', 'createdAt': '2025-08-04T11:51:57.000Z', 'creatorUid': 28551670, 'ownerUid': 28551670, 'agendaUid': 44891982, 'fileKey': '49aa1982e25e41de91a800ece23b4b58', 'attendanceMode': 3, 'onlineAccessLink': 'https://www.festivaldesfiletsbleus.bzh/artistes_2025.html#Soldat', 'locationUid': 37681236, 'image': None, 'imageCredits': None, 'title': {'fr': 'Soldat louis'}, 'description': {'fr': 'Concert de Soldat louis - Scène Armor'}, 'longDescription': {'fr': 'Concert de Soldat louis - Scène Armor', 'en': 'Concert de Soldat louis - Scène Armor'}, 'keywords': {'0': ['filets bleus'], '1': ['concert']}, 'conditions': {}, 'age': {'min': None, 'max': None}, 'registration': [], 'accessibility': {'hi': False, 'ii': False, 'vi': False, 'mi': False, 'pi': False}, 'timings': [{'begin': '2025-08-14T20:45:00.000+02:00', 'end': '2025-08-14T22:15:00.000+02:00'}], 'extIds': None, 'status': 1, 'links': [], 'location': {'uid': 37681236, 'setUid': None, 'slug': 'quai-carnot-29900-concarneau-france_1139742', 'name': 'Quai Carnot', 'address': 'Quai Carnot, 29900 Concarneau, France', 'countryCode': 'FR', 'adminLevel1': 'Bretagne', 'adminLevel2': 'Finistère', 'adminLevel3': 'Concarneau Cornouaille Agglomération', 'adminLevel4': 'Concarneau', 'city': 'Concarneau', 'adminLevel5': None, 'district': None, 'postalCode': '29900', 'insee': '29039', 'latitude': 47.874684, 'longitude': -3.917302, 'region': 'Bretagne', 'department': 'Finistère', 'timezone': 'Europe/Paris', 'updatedAt': '2025-04-08T10:29:52.000Z', 'createdAt': '2025-04-08T09:48:07.000Z', 'image': None, 'description': {'fr': 'AVEN'}, 'tags': None, 'website': None, 'email': None, 'phone': None, 'links': [], 'access': {}, 'state': 1, 'imageCredits': None, 'extIds': None, 'duplicateCandidates': None, 'disqualifiedDuplicates': None, 'mergedIn': None, 'agendaUid': 44891982}, 'addMethod': 'contribution', 'uid-externe': 'manual_scrap-filets-bleus-soldat-louis', 'state': 2, 'featured': False, 'sourcePaths': [], 'aggregated': None, 'canEdit': True, 'motive': None, 'sourceAgendas': [], 'originAgenda': {'uid': 44891982, 'slug': 'kerlandrier', 'title': 'Kerlandrier', 'description': 'La culture c’est pas de la confiture.', 'image': 'https://cdn.openagenda.com/main/agenda44891982.jpg?__ts=1726842378021', 'url': 'https://kerlandrier.cc'}, 'member': {'userUid': 28551670, 'deletedUser': False, 'name': 'Jean Baptiste Bailly Gmail', 'phone': None, 'email': 'jean.baptiste.bailly@gmail.com', 'position': None, 'organization': None, 'role': 2, 'updatedAt': '2025-08-04T11:51:59.000Z'}}}\n"
     ]
    },
    {
     "name": "stdout",
     "output_type": "stream",
     "text": [
      "--------\n",
      "manual_scrap-filets-bleus-o-tridal\n",
      "54595614\n"
     ]
    },
    {
     "name": "stderr",
     "output_type": "stream",
     "text": [
      "INFO:root:{'success': True, 'event': {'uid': 54595614, 'slug': 'otridal-9569667', 'private': 0, 'timezone': 'Europe/Paris', 'draft': 0, 'updatedAt': '2025-08-04T13:06:21.000Z', 'createdAt': '2025-08-04T11:51:58.000Z', 'creatorUid': 28551670, 'ownerUid': 28551670, 'agendaUid': 44891982, 'fileKey': 'ec8a1a3021f74a4dae9c69f4211677de', 'attendanceMode': 3, 'onlineAccessLink': 'https://www.festivaldesfiletsbleus.bzh/artistes_2025.html#OTridal', 'locationUid': 37681236, 'image': None, 'imageCredits': None, 'title': {'fr': \"O'tridal\"}, 'description': {'fr': \"Concert de O'tridal - Scène Armor\"}, 'longDescription': {'fr': \"Concert de O'tridal - Scène Armor\", 'en': \"Concert de O'tridal - Scène Armor\"}, 'keywords': {'0': ['filets bleus'], '1': ['concert']}, 'conditions': {}, 'age': {'min': None, 'max': None}, 'registration': [], 'accessibility': {'hi': False, 'ii': False, 'vi': False, 'mi': False, 'pi': False}, 'timings': [{'begin': '2025-08-14T22:30:00.000+02:00', 'end': '2025-08-14T23:50:00.000+02:00'}], 'extIds': None, 'status': 1, 'links': [], 'location': {'uid': 37681236, 'setUid': None, 'slug': 'quai-carnot-29900-concarneau-france_1139742', 'name': 'Quai Carnot', 'address': 'Quai Carnot, 29900 Concarneau, France', 'countryCode': 'FR', 'adminLevel1': 'Bretagne', 'adminLevel2': 'Finistère', 'adminLevel3': 'Concarneau Cornouaille Agglomération', 'adminLevel4': 'Concarneau', 'city': 'Concarneau', 'adminLevel5': None, 'district': None, 'postalCode': '29900', 'insee': '29039', 'latitude': 47.874684, 'longitude': -3.917302, 'region': 'Bretagne', 'department': 'Finistère', 'timezone': 'Europe/Paris', 'updatedAt': '2025-04-08T10:29:52.000Z', 'createdAt': '2025-04-08T09:48:07.000Z', 'image': None, 'description': {'fr': 'AVEN'}, 'tags': None, 'website': None, 'email': None, 'phone': None, 'links': [], 'access': {}, 'state': 1, 'imageCredits': None, 'extIds': None, 'duplicateCandidates': None, 'disqualifiedDuplicates': None, 'mergedIn': None, 'agendaUid': 44891982}, 'addMethod': 'contribution', 'uid-externe': 'manual_scrap-filets-bleus-o-tridal', 'state': 2, 'featured': False, 'sourcePaths': [], 'aggregated': None, 'canEdit': True, 'motive': None, 'sourceAgendas': [], 'originAgenda': {'uid': 44891982, 'slug': 'kerlandrier', 'title': 'Kerlandrier', 'description': 'La culture c’est pas de la confiture.', 'image': 'https://cdn.openagenda.com/main/agenda44891982.jpg?__ts=1726842378021', 'url': 'https://kerlandrier.cc'}, 'member': {'userUid': 28551670, 'deletedUser': False, 'name': 'Jean Baptiste Bailly Gmail', 'phone': None, 'email': 'jean.baptiste.bailly@gmail.com', 'position': None, 'organization': None, 'role': 2, 'updatedAt': '2025-08-04T11:51:59.000Z'}}}\n"
     ]
    },
    {
     "name": "stdout",
     "output_type": "stream",
     "text": [
      "--------\n",
      "manual_scrap-filets-bleus-batterie-fanfare-echo-du-mont-blanc\n",
      "23753861\n"
     ]
    },
    {
     "name": "stderr",
     "output_type": "stream",
     "text": [
      "INFO:root:{'success': True, 'event': {'uid': 23753861, 'slug': 'batterie-fanfare-echo-du-mont-blanc-7367794', 'private': 0, 'timezone': 'Europe/Paris', 'draft': 0, 'updatedAt': '2025-08-04T13:06:22.000Z', 'createdAt': '2025-08-04T11:51:58.000Z', 'creatorUid': 28551670, 'ownerUid': 28551670, 'agendaUid': 44891982, 'fileKey': '7f4586f90d3c450e947a8ccd07ccff50', 'attendanceMode': 3, 'onlineAccessLink': 'https://www.festivaldesfiletsbleus.bzh/artistes_2025.html#Fanfare', 'locationUid': 37681236, 'image': None, 'imageCredits': None, 'title': {'fr': 'Batterie fanfare echo du mont blanc'}, 'description': {'fr': 'Concert de Batterie fanfare echo du mont blanc - Scène Armor'}, 'longDescription': {'fr': 'Concert de Batterie fanfare echo du mont blanc - Scène Armor', 'en': 'Concert de Batterie fanfare echo du mont blanc - Scène Armor'}, 'keywords': {'0': ['filets bleus'], '1': ['concert']}, 'conditions': {}, 'age': {'min': None, 'max': None}, 'registration': [], 'accessibility': {'hi': False, 'ii': False, 'vi': False, 'mi': False, 'pi': False}, 'timings': [{'begin': '2025-08-15T19:00:00.000+02:00', 'end': '2025-08-15T20:30:00.000+02:00'}], 'extIds': None, 'status': 1, 'links': [], 'location': {'uid': 37681236, 'setUid': None, 'slug': 'quai-carnot-29900-concarneau-france_1139742', 'name': 'Quai Carnot', 'address': 'Quai Carnot, 29900 Concarneau, France', 'countryCode': 'FR', 'adminLevel1': 'Bretagne', 'adminLevel2': 'Finistère', 'adminLevel3': 'Concarneau Cornouaille Agglomération', 'adminLevel4': 'Concarneau', 'city': 'Concarneau', 'adminLevel5': None, 'district': None, 'postalCode': '29900', 'insee': '29039', 'latitude': 47.874684, 'longitude': -3.917302, 'region': 'Bretagne', 'department': 'Finistère', 'timezone': 'Europe/Paris', 'updatedAt': '2025-04-08T10:29:52.000Z', 'createdAt': '2025-04-08T09:48:07.000Z', 'image': None, 'description': {'fr': 'AVEN'}, 'tags': None, 'website': None, 'email': None, 'phone': None, 'links': [], 'access': {}, 'state': 1, 'imageCredits': None, 'extIds': None, 'duplicateCandidates': None, 'disqualifiedDuplicates': None, 'mergedIn': None, 'agendaUid': 44891982}, 'addMethod': 'contribution', 'uid-externe': 'manual_scrap-filets-bleus-batterie-fanfare-echo-du-mont-blanc', 'state': 2, 'featured': False, 'sourcePaths': [], 'aggregated': None, 'canEdit': True, 'motive': None, 'sourceAgendas': [], 'originAgenda': {'uid': 44891982, 'slug': 'kerlandrier', 'title': 'Kerlandrier', 'description': 'La culture c’est pas de la confiture.', 'image': 'https://cdn.openagenda.com/main/agenda44891982.jpg?__ts=1726842378021', 'url': 'https://kerlandrier.cc'}, 'member': {'userUid': 28551670, 'deletedUser': False, 'name': 'Jean Baptiste Bailly Gmail', 'phone': None, 'email': 'jean.baptiste.bailly@gmail.com', 'position': None, 'organization': None, 'role': 2, 'updatedAt': '2025-08-04T11:51:59.000Z'}}}\n"
     ]
    },
    {
     "name": "stdout",
     "output_type": "stream",
     "text": [
      "--------\n",
      "manual_scrap-filets-bleus-boulevard-des-airs\n",
      "18385457\n"
     ]
    },
    {
     "name": "stderr",
     "output_type": "stream",
     "text": [
      "INFO:root:{'success': True, 'event': {'uid': 18385457, 'slug': 'boulevard-des-airs-2639522', 'private': 0, 'timezone': 'Europe/Paris', 'draft': 0, 'updatedAt': '2025-08-04T13:06:23.000Z', 'createdAt': '2025-08-04T11:51:59.000Z', 'creatorUid': 28551670, 'ownerUid': 28551670, 'agendaUid': 44891982, 'fileKey': 'ecc1ce0c7f3a4fc1a77cd0f1511b00af', 'attendanceMode': 3, 'onlineAccessLink': 'https://www.festivaldesfiletsbleus.bzh/artistes_2025.html#Boulevard', 'locationUid': 37681236, 'image': None, 'imageCredits': None, 'title': {'fr': 'Boulevard des airs'}, 'description': {'fr': 'Concert de Boulevard des airs - Scène Armor'}, 'longDescription': {'fr': 'Concert de Boulevard des airs - Scène Armor', 'en': 'Concert de Boulevard des airs - Scène Armor'}, 'keywords': {'0': ['filets bleus'], '1': ['concert']}, 'conditions': {}, 'age': {'min': None, 'max': None}, 'registration': [], 'accessibility': {'hi': False, 'ii': False, 'vi': False, 'mi': False, 'pi': False}, 'timings': [{'begin': '2025-08-15T20:45:00.000+02:00', 'end': '2025-08-15T22:15:00.000+02:00'}], 'extIds': None, 'status': 1, 'links': [], 'location': {'uid': 37681236, 'setUid': None, 'slug': 'quai-carnot-29900-concarneau-france_1139742', 'name': 'Quai Carnot', 'address': 'Quai Carnot, 29900 Concarneau, France', 'countryCode': 'FR', 'adminLevel1': 'Bretagne', 'adminLevel2': 'Finistère', 'adminLevel3': 'Concarneau Cornouaille Agglomération', 'adminLevel4': 'Concarneau', 'city': 'Concarneau', 'adminLevel5': None, 'district': None, 'postalCode': '29900', 'insee': '29039', 'latitude': 47.874684, 'longitude': -3.917302, 'region': 'Bretagne', 'department': 'Finistère', 'timezone': 'Europe/Paris', 'updatedAt': '2025-04-08T10:29:52.000Z', 'createdAt': '2025-04-08T09:48:07.000Z', 'image': None, 'description': {'fr': 'AVEN'}, 'tags': None, 'website': None, 'email': None, 'phone': None, 'links': [], 'access': {}, 'state': 1, 'imageCredits': None, 'extIds': None, 'duplicateCandidates': None, 'disqualifiedDuplicates': None, 'mergedIn': None, 'agendaUid': 44891982}, 'addMethod': 'contribution', 'uid-externe': 'manual_scrap-filets-bleus-boulevard-des-airs', 'state': 2, 'featured': False, 'sourcePaths': [], 'aggregated': None, 'canEdit': True, 'motive': None, 'sourceAgendas': [], 'originAgenda': {'uid': 44891982, 'slug': 'kerlandrier', 'title': 'Kerlandrier', 'description': 'La culture c’est pas de la confiture.', 'image': 'https://cdn.openagenda.com/main/agenda44891982.jpg?__ts=1726842378021', 'url': 'https://kerlandrier.cc'}, 'member': {'userUid': 28551670, 'deletedUser': False, 'name': 'Jean Baptiste Bailly Gmail', 'phone': None, 'email': 'jean.baptiste.bailly@gmail.com', 'position': None, 'organization': None, 'role': 2, 'updatedAt': '2025-08-04T11:51:59.000Z'}}}\n"
     ]
    },
    {
     "name": "stdout",
     "output_type": "stream",
     "text": [
      "--------\n",
      "manual_scrap-filets-bleus-ampouailh\n",
      "90162237\n"
     ]
    },
    {
     "name": "stderr",
     "output_type": "stream",
     "text": [
      "INFO:root:{'success': True, 'event': {'uid': 90162237, 'slug': 'ampouailh-3361838', 'private': 0, 'timezone': 'Europe/Paris', 'draft': 0, 'updatedAt': '2025-08-04T13:06:24.022Z', 'createdAt': '2025-08-04T11:51:59.000Z', 'creatorUid': 28551670, 'ownerUid': 28551670, 'agendaUid': 44891982, 'fileKey': 'd0327899901445a7b21e5e8b3b972417', 'attendanceMode': 3, 'onlineAccessLink': 'https://www.festivaldesfiletsbleus.bzh/artistes_2025.html#Ampouailh', 'locationUid': 37681236, 'image': None, 'imageCredits': None, 'title': {'fr': 'Ampouailh'}, 'description': {'fr': 'Concert de Ampouailh - Scène Armor'}, 'longDescription': {'fr': 'Concert de Ampouailh - Scène Armor', 'en': 'Concert de Ampouailh - Scène Armor'}, 'keywords': {'0': ['filets bleus'], '1': ['concert']}, 'conditions': {}, 'age': {'min': None, 'max': None}, 'registration': [], 'accessibility': {'hi': False, 'ii': False, 'vi': False, 'mi': False, 'pi': False}, 'timings': [{'begin': '2025-08-15T22:30:00.000+02:00', 'end': '2025-08-15T23:50:00.000+02:00'}], 'extIds': None, 'status': 1, 'links': [], 'location': {'uid': 37681236, 'setUid': None, 'slug': 'quai-carnot-29900-concarneau-france_1139742', 'name': 'Quai Carnot', 'address': 'Quai Carnot, 29900 Concarneau, France', 'countryCode': 'FR', 'adminLevel1': 'Bretagne', 'adminLevel2': 'Finistère', 'adminLevel3': 'Concarneau Cornouaille Agglomération', 'adminLevel4': 'Concarneau', 'city': 'Concarneau', 'adminLevel5': None, 'district': None, 'postalCode': '29900', 'insee': '29039', 'latitude': 47.874684, 'longitude': -3.917302, 'region': 'Bretagne', 'department': 'Finistère', 'timezone': 'Europe/Paris', 'updatedAt': '2025-04-08T10:29:52.000Z', 'createdAt': '2025-04-08T09:48:07.000Z', 'image': None, 'description': {'fr': 'AVEN'}, 'tags': None, 'website': None, 'email': None, 'phone': None, 'links': [], 'access': {}, 'state': 1, 'imageCredits': None, 'extIds': None, 'duplicateCandidates': None, 'disqualifiedDuplicates': None, 'mergedIn': None, 'agendaUid': 44891982}, 'addMethod': 'contribution', 'uid-externe': 'manual_scrap-filets-bleus-ampouailh', 'state': 2, 'featured': False, 'sourcePaths': [], 'aggregated': None, 'canEdit': True, 'motive': None, 'sourceAgendas': [], 'originAgenda': {'uid': 44891982, 'slug': 'kerlandrier', 'title': 'Kerlandrier', 'description': 'La culture c’est pas de la confiture.', 'image': 'https://cdn.openagenda.com/main/agenda44891982.jpg?__ts=1726842378021', 'url': 'https://kerlandrier.cc'}, 'member': {'userUid': 28551670, 'deletedUser': False, 'name': 'Jean Baptiste Bailly Gmail', 'phone': None, 'email': 'jean.baptiste.bailly@gmail.com', 'position': None, 'organization': None, 'role': 2, 'updatedAt': '2025-08-04T11:51:59.000Z'}}}\n"
     ]
    },
    {
     "name": "stdout",
     "output_type": "stream",
     "text": [
      "--------\n"
     ]
    }
   ],
   "source": [
    "# CORRECTION\n",
    "# Update the events with online access link and attendance mode\n",
    "for concert in concertsD:\n",
    "    print(concert.get(\"uid-externe\"))\n",
    "    event= HttpRequests.search_events(oa.public_key, concert.get(\"title\").get(\"fr\")).get(\"events\")[0]\n",
    "    # pprint.pprint(event)\n",
    "    eventUID= event.get(\"uid\")\n",
    "    print(eventUID)\n",
    "    concert[\"onlineAccessLink\"] = concert.get(\"lien\")\n",
    "    concert[\"attendanceMode\"] = 3  # 1=offline, 2=online, 3=hybrid\n",
    "    HttpRequests.patch_event(\n",
    "        access_token,\n",
    "        eventUID,\n",
    "        concert\n",
    "    )\n",
    "    print(\"--------\")"
   ]
  },
  {
   "cell_type": "code",
   "execution_count": null,
   "id": "e85718e5",
   "metadata": {},
   "outputs": [],
   "source": []
  }
 ],
 "metadata": {
  "kernelspec": {
   "display_name": ".venv",
   "language": "python",
   "name": "python3"
  },
  "language_info": {
   "codemirror_mode": {
    "name": "ipython",
    "version": 3
   },
   "file_extension": ".py",
   "mimetype": "text/x-python",
   "name": "python",
   "nbconvert_exporter": "python",
   "pygments_lexer": "ipython3",
   "version": "3.12.9"
  }
 },
 "nbformat": 4,
 "nbformat_minor": 5
}
